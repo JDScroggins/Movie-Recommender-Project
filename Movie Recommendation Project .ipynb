{
 "cells": [
  {
   "cell_type": "code",
   "execution_count": 1,
   "metadata": {},
   "outputs": [],
   "source": [
    "#importing needed packages\n",
    "import pandas as pd\n",
    "import numpy as np\n",
    "import matplotlib.pyplot as plt\n",
    "import seaborn as sns\n",
    "import sklearn\n",
    "from tabulate import tabulate\n",
    "import sys"
   ]
  },
  {
   "cell_type": "markdown",
   "metadata": {},
   "source": [
    "#### *Importing the datasets*"
   ]
  },
  {
   "cell_type": "code",
   "execution_count": 2,
   "metadata": {},
   "outputs": [],
   "source": [
    "names = pd.read_csv('name.basics.tsv.gz', compression='gzip', sep = '\\t')"
   ]
  },
  {
   "cell_type": "code",
   "execution_count": 3,
   "metadata": {},
   "outputs": [
    {
     "data": {
      "text/html": [
       "<div>\n",
       "<style scoped>\n",
       "    .dataframe tbody tr th:only-of-type {\n",
       "        vertical-align: middle;\n",
       "    }\n",
       "\n",
       "    .dataframe tbody tr th {\n",
       "        vertical-align: top;\n",
       "    }\n",
       "\n",
       "    .dataframe thead th {\n",
       "        text-align: right;\n",
       "    }\n",
       "</style>\n",
       "<table border=\"1\" class=\"dataframe\">\n",
       "  <thead>\n",
       "    <tr style=\"text-align: right;\">\n",
       "      <th></th>\n",
       "      <th>nconst</th>\n",
       "      <th>primaryName</th>\n",
       "      <th>birthYear</th>\n",
       "      <th>deathYear</th>\n",
       "      <th>primaryProfession</th>\n",
       "      <th>knownForTitles</th>\n",
       "    </tr>\n",
       "  </thead>\n",
       "  <tbody>\n",
       "    <tr>\n",
       "      <th>0</th>\n",
       "      <td>nm0000001</td>\n",
       "      <td>Fred Astaire</td>\n",
       "      <td>1899</td>\n",
       "      <td>1987</td>\n",
       "      <td>soundtrack,actor,miscellaneous</td>\n",
       "      <td>tt0050419,tt0072308,tt0031983,tt0053137</td>\n",
       "    </tr>\n",
       "    <tr>\n",
       "      <th>1</th>\n",
       "      <td>nm0000002</td>\n",
       "      <td>Lauren Bacall</td>\n",
       "      <td>1924</td>\n",
       "      <td>2014</td>\n",
       "      <td>actress,soundtrack</td>\n",
       "      <td>tt0117057,tt0038355,tt0037382,tt0071877</td>\n",
       "    </tr>\n",
       "    <tr>\n",
       "      <th>2</th>\n",
       "      <td>nm0000003</td>\n",
       "      <td>Brigitte Bardot</td>\n",
       "      <td>1934</td>\n",
       "      <td>\\N</td>\n",
       "      <td>actress,soundtrack,music_department</td>\n",
       "      <td>tt0057345,tt0049189,tt0056404,tt0054452</td>\n",
       "    </tr>\n",
       "    <tr>\n",
       "      <th>3</th>\n",
       "      <td>nm0000004</td>\n",
       "      <td>John Belushi</td>\n",
       "      <td>1949</td>\n",
       "      <td>1982</td>\n",
       "      <td>actor,soundtrack,writer</td>\n",
       "      <td>tt0077975,tt0080455,tt0072562,tt0078723</td>\n",
       "    </tr>\n",
       "    <tr>\n",
       "      <th>4</th>\n",
       "      <td>nm0000005</td>\n",
       "      <td>Ingmar Bergman</td>\n",
       "      <td>1918</td>\n",
       "      <td>2007</td>\n",
       "      <td>writer,director,actor</td>\n",
       "      <td>tt0060827,tt0050976,tt0050986,tt0083922</td>\n",
       "    </tr>\n",
       "  </tbody>\n",
       "</table>\n",
       "</div>"
      ],
      "text/plain": [
       "      nconst      primaryName birthYear deathYear  \\\n",
       "0  nm0000001     Fred Astaire      1899      1987   \n",
       "1  nm0000002    Lauren Bacall      1924      2014   \n",
       "2  nm0000003  Brigitte Bardot      1934        \\N   \n",
       "3  nm0000004     John Belushi      1949      1982   \n",
       "4  nm0000005   Ingmar Bergman      1918      2007   \n",
       "\n",
       "                     primaryProfession  \\\n",
       "0       soundtrack,actor,miscellaneous   \n",
       "1                   actress,soundtrack   \n",
       "2  actress,soundtrack,music_department   \n",
       "3              actor,soundtrack,writer   \n",
       "4                writer,director,actor   \n",
       "\n",
       "                            knownForTitles  \n",
       "0  tt0050419,tt0072308,tt0031983,tt0053137  \n",
       "1  tt0117057,tt0038355,tt0037382,tt0071877  \n",
       "2  tt0057345,tt0049189,tt0056404,tt0054452  \n",
       "3  tt0077975,tt0080455,tt0072562,tt0078723  \n",
       "4  tt0060827,tt0050976,tt0050986,tt0083922  "
      ]
     },
     "execution_count": 3,
     "metadata": {},
     "output_type": "execute_result"
    }
   ],
   "source": [
    "names.head()"
   ]
  },
  {
   "cell_type": "code",
   "execution_count": 4,
   "metadata": {},
   "outputs": [
    {
     "data": {
      "text/plain": [
       "(11330662, 6)"
      ]
     },
     "execution_count": 4,
     "metadata": {},
     "output_type": "execute_result"
    }
   ],
   "source": [
    "names.shape"
   ]
  },
  {
   "cell_type": "code",
   "execution_count": 5,
   "metadata": {},
   "outputs": [],
   "source": [
    "title_basics = pd.read_csv('title.basics.tsv.gz', compression='gzip', sep = '\\t', low_memory=False)"
   ]
  },
  {
   "cell_type": "code",
   "execution_count": 6,
   "metadata": {},
   "outputs": [
    {
     "data": {
      "text/html": [
       "<div>\n",
       "<style scoped>\n",
       "    .dataframe tbody tr th:only-of-type {\n",
       "        vertical-align: middle;\n",
       "    }\n",
       "\n",
       "    .dataframe tbody tr th {\n",
       "        vertical-align: top;\n",
       "    }\n",
       "\n",
       "    .dataframe thead th {\n",
       "        text-align: right;\n",
       "    }\n",
       "</style>\n",
       "<table border=\"1\" class=\"dataframe\">\n",
       "  <thead>\n",
       "    <tr style=\"text-align: right;\">\n",
       "      <th></th>\n",
       "      <th>tconst</th>\n",
       "      <th>titleType</th>\n",
       "      <th>primaryTitle</th>\n",
       "      <th>originalTitle</th>\n",
       "      <th>isAdult</th>\n",
       "      <th>startYear</th>\n",
       "      <th>endYear</th>\n",
       "      <th>runtimeMinutes</th>\n",
       "      <th>genres</th>\n",
       "    </tr>\n",
       "  </thead>\n",
       "  <tbody>\n",
       "    <tr>\n",
       "      <th>0</th>\n",
       "      <td>tt0000001</td>\n",
       "      <td>short</td>\n",
       "      <td>Carmencita</td>\n",
       "      <td>Carmencita</td>\n",
       "      <td>0</td>\n",
       "      <td>1894</td>\n",
       "      <td>\\N</td>\n",
       "      <td>1</td>\n",
       "      <td>Documentary,Short</td>\n",
       "    </tr>\n",
       "    <tr>\n",
       "      <th>1</th>\n",
       "      <td>tt0000002</td>\n",
       "      <td>short</td>\n",
       "      <td>Le clown et ses chiens</td>\n",
       "      <td>Le clown et ses chiens</td>\n",
       "      <td>0</td>\n",
       "      <td>1892</td>\n",
       "      <td>\\N</td>\n",
       "      <td>5</td>\n",
       "      <td>Animation,Short</td>\n",
       "    </tr>\n",
       "    <tr>\n",
       "      <th>2</th>\n",
       "      <td>tt0000003</td>\n",
       "      <td>short</td>\n",
       "      <td>Pauvre Pierrot</td>\n",
       "      <td>Pauvre Pierrot</td>\n",
       "      <td>0</td>\n",
       "      <td>1892</td>\n",
       "      <td>\\N</td>\n",
       "      <td>4</td>\n",
       "      <td>Animation,Comedy,Romance</td>\n",
       "    </tr>\n",
       "    <tr>\n",
       "      <th>3</th>\n",
       "      <td>tt0000004</td>\n",
       "      <td>short</td>\n",
       "      <td>Un bon bock</td>\n",
       "      <td>Un bon bock</td>\n",
       "      <td>0</td>\n",
       "      <td>1892</td>\n",
       "      <td>\\N</td>\n",
       "      <td>12</td>\n",
       "      <td>Animation,Short</td>\n",
       "    </tr>\n",
       "    <tr>\n",
       "      <th>4</th>\n",
       "      <td>tt0000005</td>\n",
       "      <td>short</td>\n",
       "      <td>Blacksmith Scene</td>\n",
       "      <td>Blacksmith Scene</td>\n",
       "      <td>0</td>\n",
       "      <td>1893</td>\n",
       "      <td>\\N</td>\n",
       "      <td>1</td>\n",
       "      <td>Comedy,Short</td>\n",
       "    </tr>\n",
       "  </tbody>\n",
       "</table>\n",
       "</div>"
      ],
      "text/plain": [
       "      tconst titleType            primaryTitle           originalTitle  \\\n",
       "0  tt0000001     short              Carmencita              Carmencita   \n",
       "1  tt0000002     short  Le clown et ses chiens  Le clown et ses chiens   \n",
       "2  tt0000003     short          Pauvre Pierrot          Pauvre Pierrot   \n",
       "3  tt0000004     short             Un bon bock             Un bon bock   \n",
       "4  tt0000005     short        Blacksmith Scene        Blacksmith Scene   \n",
       "\n",
       "  isAdult startYear endYear runtimeMinutes                    genres  \n",
       "0       0      1894      \\N              1         Documentary,Short  \n",
       "1       0      1892      \\N              5           Animation,Short  \n",
       "2       0      1892      \\N              4  Animation,Comedy,Romance  \n",
       "3       0      1892      \\N             12           Animation,Short  \n",
       "4       0      1893      \\N              1              Comedy,Short  "
      ]
     },
     "execution_count": 6,
     "metadata": {},
     "output_type": "execute_result"
    }
   ],
   "source": [
    "title_basics.head()"
   ]
  },
  {
   "cell_type": "code",
   "execution_count": 7,
   "metadata": {},
   "outputs": [
    {
     "data": {
      "text/plain": [
       "(8343380, 9)"
      ]
     },
     "execution_count": 7,
     "metadata": {},
     "output_type": "execute_result"
    }
   ],
   "source": [
    "title_basics.shape"
   ]
  },
  {
   "cell_type": "code",
   "execution_count": 8,
   "metadata": {},
   "outputs": [],
   "source": [
    "title_crew = pd.read_csv('title.crew.tsv.gz', compression='gzip', sep = '\\t', low_memory=False)"
   ]
  },
  {
   "cell_type": "code",
   "execution_count": 9,
   "metadata": {},
   "outputs": [
    {
     "data": {
      "text/html": [
       "<div>\n",
       "<style scoped>\n",
       "    .dataframe tbody tr th:only-of-type {\n",
       "        vertical-align: middle;\n",
       "    }\n",
       "\n",
       "    .dataframe tbody tr th {\n",
       "        vertical-align: top;\n",
       "    }\n",
       "\n",
       "    .dataframe thead th {\n",
       "        text-align: right;\n",
       "    }\n",
       "</style>\n",
       "<table border=\"1\" class=\"dataframe\">\n",
       "  <thead>\n",
       "    <tr style=\"text-align: right;\">\n",
       "      <th></th>\n",
       "      <th>tconst</th>\n",
       "      <th>directors</th>\n",
       "      <th>writers</th>\n",
       "    </tr>\n",
       "  </thead>\n",
       "  <tbody>\n",
       "    <tr>\n",
       "      <th>0</th>\n",
       "      <td>tt0000001</td>\n",
       "      <td>nm0005690</td>\n",
       "      <td>\\N</td>\n",
       "    </tr>\n",
       "    <tr>\n",
       "      <th>1</th>\n",
       "      <td>tt0000002</td>\n",
       "      <td>nm0721526</td>\n",
       "      <td>\\N</td>\n",
       "    </tr>\n",
       "    <tr>\n",
       "      <th>2</th>\n",
       "      <td>tt0000003</td>\n",
       "      <td>nm0721526</td>\n",
       "      <td>\\N</td>\n",
       "    </tr>\n",
       "    <tr>\n",
       "      <th>3</th>\n",
       "      <td>tt0000004</td>\n",
       "      <td>nm0721526</td>\n",
       "      <td>\\N</td>\n",
       "    </tr>\n",
       "    <tr>\n",
       "      <th>4</th>\n",
       "      <td>tt0000005</td>\n",
       "      <td>nm0005690</td>\n",
       "      <td>\\N</td>\n",
       "    </tr>\n",
       "  </tbody>\n",
       "</table>\n",
       "</div>"
      ],
      "text/plain": [
       "      tconst  directors writers\n",
       "0  tt0000001  nm0005690      \\N\n",
       "1  tt0000002  nm0721526      \\N\n",
       "2  tt0000003  nm0721526      \\N\n",
       "3  tt0000004  nm0721526      \\N\n",
       "4  tt0000005  nm0005690      \\N"
      ]
     },
     "execution_count": 9,
     "metadata": {},
     "output_type": "execute_result"
    }
   ],
   "source": [
    "title_crew.head()"
   ]
  },
  {
   "cell_type": "code",
   "execution_count": 10,
   "metadata": {},
   "outputs": [],
   "source": [
    "title_ratings = pd.read_csv('title.ratings.tsv.gz', compression='gzip', sep = '\\t', low_memory=False)"
   ]
  },
  {
   "cell_type": "code",
   "execution_count": 11,
   "metadata": {},
   "outputs": [
    {
     "data": {
      "text/html": [
       "<div>\n",
       "<style scoped>\n",
       "    .dataframe tbody tr th:only-of-type {\n",
       "        vertical-align: middle;\n",
       "    }\n",
       "\n",
       "    .dataframe tbody tr th {\n",
       "        vertical-align: top;\n",
       "    }\n",
       "\n",
       "    .dataframe thead th {\n",
       "        text-align: right;\n",
       "    }\n",
       "</style>\n",
       "<table border=\"1\" class=\"dataframe\">\n",
       "  <thead>\n",
       "    <tr style=\"text-align: right;\">\n",
       "      <th></th>\n",
       "      <th>tconst</th>\n",
       "      <th>averageRating</th>\n",
       "      <th>numVotes</th>\n",
       "    </tr>\n",
       "  </thead>\n",
       "  <tbody>\n",
       "    <tr>\n",
       "      <th>0</th>\n",
       "      <td>tt0000001</td>\n",
       "      <td>5.7</td>\n",
       "      <td>1828</td>\n",
       "    </tr>\n",
       "    <tr>\n",
       "      <th>1</th>\n",
       "      <td>tt0000002</td>\n",
       "      <td>6.0</td>\n",
       "      <td>236</td>\n",
       "    </tr>\n",
       "    <tr>\n",
       "      <th>2</th>\n",
       "      <td>tt0000003</td>\n",
       "      <td>6.5</td>\n",
       "      <td>1589</td>\n",
       "    </tr>\n",
       "    <tr>\n",
       "      <th>3</th>\n",
       "      <td>tt0000004</td>\n",
       "      <td>6.0</td>\n",
       "      <td>153</td>\n",
       "    </tr>\n",
       "    <tr>\n",
       "      <th>4</th>\n",
       "      <td>tt0000005</td>\n",
       "      <td>6.2</td>\n",
       "      <td>2405</td>\n",
       "    </tr>\n",
       "  </tbody>\n",
       "</table>\n",
       "</div>"
      ],
      "text/plain": [
       "      tconst  averageRating  numVotes\n",
       "0  tt0000001            5.7      1828\n",
       "1  tt0000002            6.0       236\n",
       "2  tt0000003            6.5      1589\n",
       "3  tt0000004            6.0       153\n",
       "4  tt0000005            6.2      2405"
      ]
     },
     "execution_count": 11,
     "metadata": {},
     "output_type": "execute_result"
    }
   ],
   "source": [
    "title_ratings.head()"
   ]
  },
  {
   "cell_type": "code",
   "execution_count": 12,
   "metadata": {},
   "outputs": [
    {
     "data": {
      "text/plain": [
       "1197403"
      ]
     },
     "execution_count": 12,
     "metadata": {},
     "output_type": "execute_result"
    }
   ],
   "source": [
    "len(title_ratings)"
   ]
  },
  {
   "cell_type": "markdown",
   "metadata": {},
   "source": [
    "#### Making a weighted ratings sysytem to account for the number of votes as well"
   ]
  },
  {
   "cell_type": "code",
   "execution_count": 13,
   "metadata": {},
   "outputs": [
    {
     "data": {
      "text/plain": [
       "6.922857968452857"
      ]
     },
     "execution_count": 13,
     "metadata": {},
     "output_type": "execute_result"
    }
   ],
   "source": [
    "R = title_ratings['averageRating'].mean()\n",
    "R"
   ]
  },
  {
   "cell_type": "code",
   "execution_count": 14,
   "metadata": {},
   "outputs": [
    {
     "data": {
      "text/plain": [
       "977.9986270286612"
      ]
     },
     "execution_count": 14,
     "metadata": {},
     "output_type": "execute_result"
    }
   ],
   "source": [
    "C = title_ratings['numVotes'].mean()\n",
    "C"
   ]
  },
  {
   "cell_type": "code",
   "execution_count": 15,
   "metadata": {},
   "outputs": [
    {
     "data": {
      "text/plain": [
       "426.80000000004657"
      ]
     },
     "execution_count": 15,
     "metadata": {},
     "output_type": "execute_result"
    }
   ],
   "source": [
    "m = title_ratings['numVotes'].quantile(.90)\n",
    "m"
   ]
  },
  {
   "cell_type": "code",
   "execution_count": 16,
   "metadata": {},
   "outputs": [],
   "source": [
    "def weighted_average (movie, m=m, C=C):\n",
    "    r = movie['averageRating']\n",
    "    v = movie['numVotes']\n",
    "    \n",
    "    return (((v/(v+m)) * r) + ((m/(m+v)) * C))\n",
    "\n",
    "#title_ratings['score'] = title_ratings.apply(weighted_average, axis=1)"
   ]
  },
  {
   "cell_type": "markdown",
   "metadata": {},
   "source": [
    "#### *Merging the movie specific datasets based on the tconst column*"
   ]
  },
  {
   "cell_type": "code",
   "execution_count": 17,
   "metadata": {},
   "outputs": [],
   "source": [
    "full_df = title_basics.merge(title_ratings, on = 'tconst')"
   ]
  },
  {
   "cell_type": "code",
   "execution_count": 18,
   "metadata": {},
   "outputs": [
    {
     "data": {
      "text/html": [
       "<div>\n",
       "<style scoped>\n",
       "    .dataframe tbody tr th:only-of-type {\n",
       "        vertical-align: middle;\n",
       "    }\n",
       "\n",
       "    .dataframe tbody tr th {\n",
       "        vertical-align: top;\n",
       "    }\n",
       "\n",
       "    .dataframe thead th {\n",
       "        text-align: right;\n",
       "    }\n",
       "</style>\n",
       "<table border=\"1\" class=\"dataframe\">\n",
       "  <thead>\n",
       "    <tr style=\"text-align: right;\">\n",
       "      <th></th>\n",
       "      <th>tconst</th>\n",
       "      <th>titleType</th>\n",
       "      <th>primaryTitle</th>\n",
       "      <th>originalTitle</th>\n",
       "      <th>isAdult</th>\n",
       "      <th>startYear</th>\n",
       "      <th>endYear</th>\n",
       "      <th>runtimeMinutes</th>\n",
       "      <th>genres</th>\n",
       "      <th>averageRating</th>\n",
       "      <th>numVotes</th>\n",
       "    </tr>\n",
       "  </thead>\n",
       "  <tbody>\n",
       "    <tr>\n",
       "      <th>0</th>\n",
       "      <td>tt0000001</td>\n",
       "      <td>short</td>\n",
       "      <td>Carmencita</td>\n",
       "      <td>Carmencita</td>\n",
       "      <td>0</td>\n",
       "      <td>1894</td>\n",
       "      <td>\\N</td>\n",
       "      <td>1</td>\n",
       "      <td>Documentary,Short</td>\n",
       "      <td>5.7</td>\n",
       "      <td>1828</td>\n",
       "    </tr>\n",
       "    <tr>\n",
       "      <th>1</th>\n",
       "      <td>tt0000002</td>\n",
       "      <td>short</td>\n",
       "      <td>Le clown et ses chiens</td>\n",
       "      <td>Le clown et ses chiens</td>\n",
       "      <td>0</td>\n",
       "      <td>1892</td>\n",
       "      <td>\\N</td>\n",
       "      <td>5</td>\n",
       "      <td>Animation,Short</td>\n",
       "      <td>6.0</td>\n",
       "      <td>236</td>\n",
       "    </tr>\n",
       "    <tr>\n",
       "      <th>2</th>\n",
       "      <td>tt0000003</td>\n",
       "      <td>short</td>\n",
       "      <td>Pauvre Pierrot</td>\n",
       "      <td>Pauvre Pierrot</td>\n",
       "      <td>0</td>\n",
       "      <td>1892</td>\n",
       "      <td>\\N</td>\n",
       "      <td>4</td>\n",
       "      <td>Animation,Comedy,Romance</td>\n",
       "      <td>6.5</td>\n",
       "      <td>1589</td>\n",
       "    </tr>\n",
       "    <tr>\n",
       "      <th>3</th>\n",
       "      <td>tt0000004</td>\n",
       "      <td>short</td>\n",
       "      <td>Un bon bock</td>\n",
       "      <td>Un bon bock</td>\n",
       "      <td>0</td>\n",
       "      <td>1892</td>\n",
       "      <td>\\N</td>\n",
       "      <td>12</td>\n",
       "      <td>Animation,Short</td>\n",
       "      <td>6.0</td>\n",
       "      <td>153</td>\n",
       "    </tr>\n",
       "    <tr>\n",
       "      <th>4</th>\n",
       "      <td>tt0000005</td>\n",
       "      <td>short</td>\n",
       "      <td>Blacksmith Scene</td>\n",
       "      <td>Blacksmith Scene</td>\n",
       "      <td>0</td>\n",
       "      <td>1893</td>\n",
       "      <td>\\N</td>\n",
       "      <td>1</td>\n",
       "      <td>Comedy,Short</td>\n",
       "      <td>6.2</td>\n",
       "      <td>2405</td>\n",
       "    </tr>\n",
       "  </tbody>\n",
       "</table>\n",
       "</div>"
      ],
      "text/plain": [
       "      tconst titleType            primaryTitle           originalTitle  \\\n",
       "0  tt0000001     short              Carmencita              Carmencita   \n",
       "1  tt0000002     short  Le clown et ses chiens  Le clown et ses chiens   \n",
       "2  tt0000003     short          Pauvre Pierrot          Pauvre Pierrot   \n",
       "3  tt0000004     short             Un bon bock             Un bon bock   \n",
       "4  tt0000005     short        Blacksmith Scene        Blacksmith Scene   \n",
       "\n",
       "  isAdult startYear endYear runtimeMinutes                    genres  \\\n",
       "0       0      1894      \\N              1         Documentary,Short   \n",
       "1       0      1892      \\N              5           Animation,Short   \n",
       "2       0      1892      \\N              4  Animation,Comedy,Romance   \n",
       "3       0      1892      \\N             12           Animation,Short   \n",
       "4       0      1893      \\N              1              Comedy,Short   \n",
       "\n",
       "   averageRating  numVotes  \n",
       "0            5.7      1828  \n",
       "1            6.0       236  \n",
       "2            6.5      1589  \n",
       "3            6.0       153  \n",
       "4            6.2      2405  "
      ]
     },
     "execution_count": 18,
     "metadata": {},
     "output_type": "execute_result"
    }
   ],
   "source": [
    "full_df.head()"
   ]
  },
  {
   "cell_type": "code",
   "execution_count": 19,
   "metadata": {},
   "outputs": [],
   "source": [
    "full_df = full_df.merge(title_crew, on = 'tconst')"
   ]
  },
  {
   "cell_type": "code",
   "execution_count": 20,
   "metadata": {},
   "outputs": [
    {
     "data": {
      "text/html": [
       "<div>\n",
       "<style scoped>\n",
       "    .dataframe tbody tr th:only-of-type {\n",
       "        vertical-align: middle;\n",
       "    }\n",
       "\n",
       "    .dataframe tbody tr th {\n",
       "        vertical-align: top;\n",
       "    }\n",
       "\n",
       "    .dataframe thead th {\n",
       "        text-align: right;\n",
       "    }\n",
       "</style>\n",
       "<table border=\"1\" class=\"dataframe\">\n",
       "  <thead>\n",
       "    <tr style=\"text-align: right;\">\n",
       "      <th></th>\n",
       "      <th>tconst</th>\n",
       "      <th>titleType</th>\n",
       "      <th>primaryTitle</th>\n",
       "      <th>originalTitle</th>\n",
       "      <th>isAdult</th>\n",
       "      <th>startYear</th>\n",
       "      <th>endYear</th>\n",
       "      <th>runtimeMinutes</th>\n",
       "      <th>genres</th>\n",
       "      <th>averageRating</th>\n",
       "      <th>numVotes</th>\n",
       "      <th>directors</th>\n",
       "      <th>writers</th>\n",
       "    </tr>\n",
       "  </thead>\n",
       "  <tbody>\n",
       "    <tr>\n",
       "      <th>0</th>\n",
       "      <td>tt0000001</td>\n",
       "      <td>short</td>\n",
       "      <td>Carmencita</td>\n",
       "      <td>Carmencita</td>\n",
       "      <td>0</td>\n",
       "      <td>1894</td>\n",
       "      <td>\\N</td>\n",
       "      <td>1</td>\n",
       "      <td>Documentary,Short</td>\n",
       "      <td>5.7</td>\n",
       "      <td>1828</td>\n",
       "      <td>nm0005690</td>\n",
       "      <td>\\N</td>\n",
       "    </tr>\n",
       "    <tr>\n",
       "      <th>1</th>\n",
       "      <td>tt0000002</td>\n",
       "      <td>short</td>\n",
       "      <td>Le clown et ses chiens</td>\n",
       "      <td>Le clown et ses chiens</td>\n",
       "      <td>0</td>\n",
       "      <td>1892</td>\n",
       "      <td>\\N</td>\n",
       "      <td>5</td>\n",
       "      <td>Animation,Short</td>\n",
       "      <td>6.0</td>\n",
       "      <td>236</td>\n",
       "      <td>nm0721526</td>\n",
       "      <td>\\N</td>\n",
       "    </tr>\n",
       "    <tr>\n",
       "      <th>2</th>\n",
       "      <td>tt0000003</td>\n",
       "      <td>short</td>\n",
       "      <td>Pauvre Pierrot</td>\n",
       "      <td>Pauvre Pierrot</td>\n",
       "      <td>0</td>\n",
       "      <td>1892</td>\n",
       "      <td>\\N</td>\n",
       "      <td>4</td>\n",
       "      <td>Animation,Comedy,Romance</td>\n",
       "      <td>6.5</td>\n",
       "      <td>1589</td>\n",
       "      <td>nm0721526</td>\n",
       "      <td>\\N</td>\n",
       "    </tr>\n",
       "    <tr>\n",
       "      <th>3</th>\n",
       "      <td>tt0000004</td>\n",
       "      <td>short</td>\n",
       "      <td>Un bon bock</td>\n",
       "      <td>Un bon bock</td>\n",
       "      <td>0</td>\n",
       "      <td>1892</td>\n",
       "      <td>\\N</td>\n",
       "      <td>12</td>\n",
       "      <td>Animation,Short</td>\n",
       "      <td>6.0</td>\n",
       "      <td>153</td>\n",
       "      <td>nm0721526</td>\n",
       "      <td>\\N</td>\n",
       "    </tr>\n",
       "    <tr>\n",
       "      <th>4</th>\n",
       "      <td>tt0000005</td>\n",
       "      <td>short</td>\n",
       "      <td>Blacksmith Scene</td>\n",
       "      <td>Blacksmith Scene</td>\n",
       "      <td>0</td>\n",
       "      <td>1893</td>\n",
       "      <td>\\N</td>\n",
       "      <td>1</td>\n",
       "      <td>Comedy,Short</td>\n",
       "      <td>6.2</td>\n",
       "      <td>2405</td>\n",
       "      <td>nm0005690</td>\n",
       "      <td>\\N</td>\n",
       "    </tr>\n",
       "  </tbody>\n",
       "</table>\n",
       "</div>"
      ],
      "text/plain": [
       "      tconst titleType            primaryTitle           originalTitle  \\\n",
       "0  tt0000001     short              Carmencita              Carmencita   \n",
       "1  tt0000002     short  Le clown et ses chiens  Le clown et ses chiens   \n",
       "2  tt0000003     short          Pauvre Pierrot          Pauvre Pierrot   \n",
       "3  tt0000004     short             Un bon bock             Un bon bock   \n",
       "4  tt0000005     short        Blacksmith Scene        Blacksmith Scene   \n",
       "\n",
       "  isAdult startYear endYear runtimeMinutes                    genres  \\\n",
       "0       0      1894      \\N              1         Documentary,Short   \n",
       "1       0      1892      \\N              5           Animation,Short   \n",
       "2       0      1892      \\N              4  Animation,Comedy,Romance   \n",
       "3       0      1892      \\N             12           Animation,Short   \n",
       "4       0      1893      \\N              1              Comedy,Short   \n",
       "\n",
       "   averageRating  numVotes  directors writers  \n",
       "0            5.7      1828  nm0005690      \\N  \n",
       "1            6.0       236  nm0721526      \\N  \n",
       "2            6.5      1589  nm0721526      \\N  \n",
       "3            6.0       153  nm0721526      \\N  \n",
       "4            6.2      2405  nm0005690      \\N  "
      ]
     },
     "execution_count": 20,
     "metadata": {},
     "output_type": "execute_result"
    }
   ],
   "source": [
    "full_df.head()"
   ]
  },
  {
   "cell_type": "code",
   "execution_count": 21,
   "metadata": {},
   "outputs": [],
   "source": [
    "full_df = full_df[(full_df['numVotes']) >= m]"
   ]
  },
  {
   "cell_type": "code",
   "execution_count": 22,
   "metadata": {},
   "outputs": [],
   "source": [
    "full_df['score'] = full_df.apply(weighted_average, axis=1)"
   ]
  },
  {
   "cell_type": "code",
   "execution_count": 23,
   "metadata": {},
   "outputs": [
    {
     "data": {
      "text/plain": [
       "(119741, 14)"
      ]
     },
     "execution_count": 23,
     "metadata": {},
     "output_type": "execute_result"
    }
   ],
   "source": [
    "full_df.shape"
   ]
  },
  {
   "cell_type": "code",
   "execution_count": 24,
   "metadata": {},
   "outputs": [
    {
     "data": {
      "text/plain": [
       "movie           55884\n",
       "tvEpisode       38640\n",
       "tvSeries        10178\n",
       "tvMovie          4571\n",
       "short            3361\n",
       "video            2675\n",
       "tvMiniSeries     1996\n",
       "videoGame        1554\n",
       "tvSpecial         708\n",
       "tvShort           174\n",
       "Name: titleType, dtype: int64"
      ]
     },
     "execution_count": 24,
     "metadata": {},
     "output_type": "execute_result"
    }
   ],
   "source": [
    "full_df.titleType.value_counts()"
   ]
  },
  {
   "cell_type": "code",
   "execution_count": 25,
   "metadata": {},
   "outputs": [
    {
     "data": {
      "image/png": "[encoded data removed]",
      "text/plain": [
       "<Figure size 720x720 with 1 Axes>"
      ]
     },
     "metadata": {
      "needs_background": "light"
     },
     "output_type": "display_data"
    }
   ],
   "source": [
    "plt.rcParams['figure.figsize'] = (10,10)\n",
    "full_df['titleType'].value_counts().plot(kind='bar', color = ['blue', 'green', 'red', 'orange',\n",
    "                                                              'black', 'cyan', 'purple', 'yellow', 'brown', 'blue'])\n",
    "plt.title('Number of each Type of Title', fontsize = 20)\n",
    "plt.xlabel('Title Type', fontsize = 15)\n",
    "plt.ylabel('Total', fontsize = 15)\n",
    "plt.show()"
   ]
  },
  {
   "cell_type": "code",
   "execution_count": 26,
   "metadata": {
    "scrolled": true
   },
   "outputs": [
    {
     "data": {
      "text/plain": [
       "119741"
      ]
     },
     "execution_count": 26,
     "metadata": {},
     "output_type": "execute_result"
    }
   ],
   "source": [
    "len(full_df)"
   ]
  },
  {
   "cell_type": "code",
   "execution_count": 27,
   "metadata": {},
   "outputs": [],
   "source": [
    "#subsetting dataset to only movies, tvmovies and tvseries\n",
    "full_df_movie = full_df[(full_df['titleType'] == 'movie') | (full_df['titleType'] == 'tvMovie') | (full_df['titleType'] == 'tvSeries')]"
   ]
  },
  {
   "cell_type": "code",
   "execution_count": 28,
   "metadata": {},
   "outputs": [
    {
     "data": {
      "text/html": [
       "<div>\n",
       "<style scoped>\n",
       "    .dataframe tbody tr th:only-of-type {\n",
       "        vertical-align: middle;\n",
       "    }\n",
       "\n",
       "    .dataframe tbody tr th {\n",
       "        vertical-align: top;\n",
       "    }\n",
       "\n",
       "    .dataframe thead th {\n",
       "        text-align: right;\n",
       "    }\n",
       "</style>\n",
       "<table border=\"1\" class=\"dataframe\">\n",
       "  <thead>\n",
       "    <tr style=\"text-align: right;\">\n",
       "      <th></th>\n",
       "      <th>tconst</th>\n",
       "      <th>titleType</th>\n",
       "      <th>primaryTitle</th>\n",
       "      <th>originalTitle</th>\n",
       "      <th>isAdult</th>\n",
       "      <th>startYear</th>\n",
       "      <th>endYear</th>\n",
       "      <th>runtimeMinutes</th>\n",
       "      <th>genres</th>\n",
       "      <th>averageRating</th>\n",
       "      <th>numVotes</th>\n",
       "      <th>directors</th>\n",
       "      <th>writers</th>\n",
       "      <th>score</th>\n",
       "    </tr>\n",
       "  </thead>\n",
       "  <tbody>\n",
       "    <tr>\n",
       "      <th>994</th>\n",
       "      <td>tt0002101</td>\n",
       "      <td>movie</td>\n",
       "      <td>Cleopatra</td>\n",
       "      <td>Cleopatra</td>\n",
       "      <td>0</td>\n",
       "      <td>1912</td>\n",
       "      <td>\\N</td>\n",
       "      <td>100</td>\n",
       "      <td>Drama,History</td>\n",
       "      <td>5.1</td>\n",
       "      <td>521</td>\n",
       "      <td>nm0309130</td>\n",
       "      <td>nm0765026,nm0309130</td>\n",
       "      <td>443.202062</td>\n",
       "    </tr>\n",
       "    <tr>\n",
       "      <th>1002</th>\n",
       "      <td>tt0002130</td>\n",
       "      <td>movie</td>\n",
       "      <td>Dante's Inferno</td>\n",
       "      <td>L'Inferno</td>\n",
       "      <td>0</td>\n",
       "      <td>1911</td>\n",
       "      <td>\\N</td>\n",
       "      <td>71</td>\n",
       "      <td>Adventure,Drama,Fantasy</td>\n",
       "      <td>7.0</td>\n",
       "      <td>2693</td>\n",
       "      <td>nm0078205,nm0209738,nm0655824</td>\n",
       "      <td>nm0019604</td>\n",
       "      <td>139.836148</td>\n",
       "    </tr>\n",
       "    <tr>\n",
       "      <th>1026</th>\n",
       "      <td>tt0002199</td>\n",
       "      <td>movie</td>\n",
       "      <td>From the Manger to the Cross; or, Jesus of Naz...</td>\n",
       "      <td>From the Manger to the Cross; or, Jesus of Naz...</td>\n",
       "      <td>0</td>\n",
       "      <td>1912</td>\n",
       "      <td>\\N</td>\n",
       "      <td>60</td>\n",
       "      <td>Biography,Drama</td>\n",
       "      <td>5.8</td>\n",
       "      <td>571</td>\n",
       "      <td>nm0646058</td>\n",
       "      <td>nm0310155</td>\n",
       "      <td>421.649242</td>\n",
       "    </tr>\n",
       "    <tr>\n",
       "      <th>1098</th>\n",
       "      <td>tt0002423</td>\n",
       "      <td>movie</td>\n",
       "      <td>Passion</td>\n",
       "      <td>Madame DuBarry</td>\n",
       "      <td>0</td>\n",
       "      <td>1919</td>\n",
       "      <td>\\N</td>\n",
       "      <td>85</td>\n",
       "      <td>Biography,Drama,Romance</td>\n",
       "      <td>6.7</td>\n",
       "      <td>862</td>\n",
       "      <td>nm0523932</td>\n",
       "      <td>nm0266183,nm0473134</td>\n",
       "      <td>328.356001</td>\n",
       "    </tr>\n",
       "    <tr>\n",
       "      <th>1195</th>\n",
       "      <td>tt0002844</td>\n",
       "      <td>movie</td>\n",
       "      <td>Fantômas: In the Shadow of the Guillotine</td>\n",
       "      <td>Fantômas - À l'ombre de la guillotine</td>\n",
       "      <td>0</td>\n",
       "      <td>1913</td>\n",
       "      <td>\\N</td>\n",
       "      <td>54</td>\n",
       "      <td>Crime,Drama</td>\n",
       "      <td>7.0</td>\n",
       "      <td>2177</td>\n",
       "      <td>nm0275421</td>\n",
       "      <td>nm0019855,nm0275421,nm0816232</td>\n",
       "      <td>166.160540</td>\n",
       "    </tr>\n",
       "  </tbody>\n",
       "</table>\n",
       "</div>"
      ],
      "text/plain": [
       "         tconst titleType                                       primaryTitle  \\\n",
       "994   tt0002101     movie                                          Cleopatra   \n",
       "1002  tt0002130     movie                                    Dante's Inferno   \n",
       "1026  tt0002199     movie  From the Manger to the Cross; or, Jesus of Naz...   \n",
       "1098  tt0002423     movie                                            Passion   \n",
       "1195  tt0002844     movie          Fantômas: In the Shadow of the Guillotine   \n",
       "\n",
       "                                          originalTitle isAdult startYear  \\\n",
       "994                                           Cleopatra       0      1912   \n",
       "1002                                          L'Inferno       0      1911   \n",
       "1026  From the Manger to the Cross; or, Jesus of Naz...       0      1912   \n",
       "1098                                     Madame DuBarry       0      1919   \n",
       "1195              Fantômas - À l'ombre de la guillotine       0      1913   \n",
       "\n",
       "     endYear runtimeMinutes                   genres  averageRating  numVotes  \\\n",
       "994       \\N            100            Drama,History            5.1       521   \n",
       "1002      \\N             71  Adventure,Drama,Fantasy            7.0      2693   \n",
       "1026      \\N             60          Biography,Drama            5.8       571   \n",
       "1098      \\N             85  Biography,Drama,Romance            6.7       862   \n",
       "1195      \\N             54              Crime,Drama            7.0      2177   \n",
       "\n",
       "                          directors                        writers       score  \n",
       "994                       nm0309130            nm0765026,nm0309130  443.202062  \n",
       "1002  nm0078205,nm0209738,nm0655824                      nm0019604  139.836148  \n",
       "1026                      nm0646058                      nm0310155  421.649242  \n",
       "1098                      nm0523932            nm0266183,nm0473134  328.356001  \n",
       "1195                      nm0275421  nm0019855,nm0275421,nm0816232  166.160540  "
      ]
     },
     "execution_count": 28,
     "metadata": {},
     "output_type": "execute_result"
    }
   ],
   "source": [
    "full_df_movie.head()"
   ]
  },
  {
   "cell_type": "code",
   "execution_count": 29,
   "metadata": {},
   "outputs": [
    {
     "data": {
      "text/plain": [
       "(70633, 14)"
      ]
     },
     "execution_count": 29,
     "metadata": {},
     "output_type": "execute_result"
    }
   ],
   "source": [
    "full_df_movie.shape"
   ]
  },
  {
   "cell_type": "code",
   "execution_count": 30,
   "metadata": {},
   "outputs": [
    {
     "data": {
      "text/plain": [
       "movie       55884\n",
       "tvSeries    10178\n",
       "tvMovie      4571\n",
       "Name: titleType, dtype: int64"
      ]
     },
     "execution_count": 30,
     "metadata": {},
     "output_type": "execute_result"
    }
   ],
   "source": [
    "full_df_movie.titleType.value_counts()"
   ]
  },
  {
   "cell_type": "code",
   "execution_count": 31,
   "metadata": {},
   "outputs": [
    {
     "data": {
      "image/png": "[encoded data removed]",
      "text/plain": [
       "<Figure size 720x720 with 1 Axes>"
      ]
     },
     "metadata": {
      "needs_background": "light"
     },
     "output_type": "display_data"
    }
   ],
   "source": [
    "plt.rcParams['figure.figsize'] = (10,10)\n",
    "full_df_movie['titleType'].value_counts().plot(kind='bar', color = ['blue', 'green', 'red'])\n",
    "plt.title('Number of each Type of Title', fontsize = 20)\n",
    "plt.xlabel('Title Type', fontsize = 15)\n",
    "plt.ylabel('Total', fontsize = 15)\n",
    "plt.show()"
   ]
  },
  {
   "cell_type": "code",
   "execution_count": 32,
   "metadata": {},
   "outputs": [
    {
     "data": {
      "image/png": "[encoded data removed]",
      "text/plain": [
       "<Figure size 720x720 with 1 Axes>"
      ]
     },
     "metadata": {
      "needs_background": "light"
     },
     "output_type": "display_data"
    }
   ],
   "source": [
    "plt.rcParams['figure.figsize'] = (10,10)\n",
    "plt.hist(full_df_movie['averageRating'], color='blue')\n",
    "plt.title('Distribution of Average Rating of Titles', fontsize = 20)\n",
    "plt.xlabel('Score',fontsize = 15)\n",
    "plt.ylabel('Frequency', fontsize = 15)\n",
    "plt.show()"
   ]
  },
  {
   "cell_type": "markdown",
   "metadata": {},
   "source": [
    "#### *creating dictionary of names to replace in dataframe*"
   ]
  },
  {
   "cell_type": "code",
   "execution_count": 33,
   "metadata": {},
   "outputs": [],
   "source": [
    "#names_code = names[['nconst','primaryName']]"
   ]
  },
  {
   "cell_type": "code",
   "execution_count": 34,
   "metadata": {},
   "outputs": [],
   "source": [
    "#names[['knownfor1', 'knownfor2', 'knownfor3',\n",
    "#       'knownfor4', 'knownfor5', 'knownfor6']] = names['knownForTitles'].str.split(',', expand=True)"
   ]
  },
  {
   "cell_type": "code",
   "execution_count": 35,
   "metadata": {},
   "outputs": [],
   "source": [
    "#names2 = names.drop(['birthYear', 'deathYear', 'primaryProfession', 'knownForTitles'], axis=1)"
   ]
  },
  {
   "cell_type": "code",
   "execution_count": 36,
   "metadata": {},
   "outputs": [],
   "source": [
    "#names2.head()"
   ]
  },
  {
   "cell_type": "markdown",
   "metadata": {},
   "source": [
    "#### *dropping unecessary columns*"
   ]
  },
  {
   "cell_type": "code",
   "execution_count": 37,
   "metadata": {},
   "outputs": [],
   "source": [
    "movie_data = full_df_movie.drop(['originalTitle', 'isAdult', 'endYear', 'runtimeMinutes'], axis=1)"
   ]
  },
  {
   "cell_type": "code",
   "execution_count": 38,
   "metadata": {},
   "outputs": [
    {
     "data": {
      "text/plain": [
       "(54141, 10)"
      ]
     },
     "execution_count": 38,
     "metadata": {},
     "output_type": "execute_result"
    }
   ],
   "source": [
    "movie_data = movie_data[(movie_data['titleType']== 'movie') | (movie_data['score'] >= 500)]\n",
    "movie_data = movie_data.replace('\\\\N', np.NAN)\n",
    "movie_data = movie_data.dropna()\n",
    "movie_data.shape"
   ]
  },
  {
   "cell_type": "code",
   "execution_count": 39,
   "metadata": {},
   "outputs": [
    {
     "data": {
      "text/plain": [
       "(54141, 10)"
      ]
     },
     "execution_count": 39,
     "metadata": {},
     "output_type": "execute_result"
    }
   ],
   "source": [
    "movie_data2 = movie_data[(movie_data['titleType']== 'movie') | (movie_data['score'] >= 500)]\n",
    "movie_data2 = movie_data2.replace('\\\\N', np.NAN)\n",
    "movie_data = movie_data.dropna()\n",
    "movie_data2.shape"
   ]
  },
  {
   "cell_type": "markdown",
   "metadata": {},
   "source": [
    "#### *split the genres column*"
   ]
  },
  {
   "cell_type": "code",
   "execution_count": 40,
   "metadata": {},
   "outputs": [],
   "source": [
    "movie_data2 = movie_data.assign(genres=movie_data.genres.str.split(',')).explode('genres').reset_index(drop=True)"
   ]
  },
  {
   "cell_type": "code",
   "execution_count": 41,
   "metadata": {},
   "outputs": [
    {
     "data": {
      "text/plain": [
       "(120281, 10)"
      ]
     },
     "execution_count": 41,
     "metadata": {},
     "output_type": "execute_result"
    }
   ],
   "source": [
    "movie_data2.shape"
   ]
  },
  {
   "cell_type": "code",
   "execution_count": 80,
   "metadata": {},
   "outputs": [
    {
     "data": {
      "image/png": "[encoded data removed]",
      "text/plain": [
       "<Figure size 720x720 with 1 Axes>"
      ]
     },
     "metadata": {
      "needs_background": "light"
     },
     "output_type": "display_data"
    }
   ],
   "source": [
    "plt.rcParams['figure.figsize'] = (10,10)\n",
    "movie_data2['genres'].value_counts().plot(kind='barh', color = ['blue', 'green', 'red', 'orange',\n",
    "                                                              'black', 'cyan', 'purple', 'yellow', 'brown', 'blue', 'green', 'red', 'orange',\n",
    "                                                              'black', 'cyan', 'purple', 'yellow', 'brown', 'blue', 'green', 'red', 'orange',\n",
    "                                                              'black', 'cyan'] )\n",
    "plt.title('Total Amount of each Genre', fontsize = 20)\n",
    "plt.ylabel('Genre', fontsize = 15)\n",
    "plt.xlabel('Total', fontsize = 15)\n",
    "plt.show()"
   ]
  },
  {
   "cell_type": "code",
   "execution_count": 43,
   "metadata": {},
   "outputs": [
    {
     "data": {
      "text/plain": [
       "2018    2200\n",
       "2017    2171\n",
       "2019    2080\n",
       "2016    2035\n",
       "2015    1979\n",
       "        ... \n",
       "1914      13\n",
       "1915      11\n",
       "1913       8\n",
       "1912       2\n",
       "1911       1\n",
       "Name: startYear, Length: 111, dtype: int64"
      ]
     },
     "execution_count": 43,
     "metadata": {},
     "output_type": "execute_result"
    }
   ],
   "source": [
    "movie_data['startYear'].value_counts()"
   ]
  },
  {
   "cell_type": "code",
   "execution_count": 44,
   "metadata": {},
   "outputs": [],
   "source": [
    "movie_data['startYear'] = movie_data['startYear'].astype(int)"
   ]
  },
  {
   "cell_type": "code",
   "execution_count": 45,
   "metadata": {
    "scrolled": false
   },
   "outputs": [
    {
     "data": {
      "image/png": "[encoded data removed]",
      "text/plain": [
       "<Figure size 1440x1440 with 1 Axes>"
      ]
     },
     "metadata": {
      "needs_background": "light"
     },
     "output_type": "display_data"
    }
   ],
   "source": [
    "plt.rcParams['figure.figsize'] = (20,20)\n",
    "movie_data['startYear'].value_counts().plot(kind='bar')\n",
    "plt.title('Total Amount of Movies per Year', fontsize = 20)\n",
    "plt.xlabel('Year', fontsize = 15)\n",
    "plt.ylabel('Total', fontsize = 15)\n",
    "plt.show()"
   ]
  },
  {
   "cell_type": "code",
   "execution_count": 46,
   "metadata": {},
   "outputs": [],
   "source": [
    "genre_group = movie_data2.groupby(['genres'])['averageRating'].mean()"
   ]
  },
  {
   "cell_type": "code",
   "execution_count": 81,
   "metadata": {},
   "outputs": [
    {
     "data": {
      "image/png": "[encoded data removed]",
      "text/plain": [
       "<Figure size 720x720 with 1 Axes>"
      ]
     },
     "metadata": {
      "needs_background": "light"
     },
     "output_type": "display_data"
    }
   ],
   "source": [
    "genre_group.plot(kind='barh', title='Average Rating by Genre', ylabel='Average Rating',\n",
    "         xlabel='Genre', figsize=(10, 10),  color = ['blue', 'green', 'red', 'orange',\n",
    "                                                              'black', 'cyan', 'purple', 'yellow', 'brown', 'blue', 'green', 'red', 'orange',\n",
    "                                                              'black', 'cyan', 'purple', 'yellow', 'brown', 'blue', 'green', 'red', 'orange',\n",
    "                                                              'black', 'cyan'] )\n",
    "plt.show()"
   ]
  },
  {
   "cell_type": "code",
   "execution_count": null,
   "metadata": {},
   "outputs": [],
   "source": []
  },
  {
   "cell_type": "code",
   "execution_count": null,
   "metadata": {},
   "outputs": [],
   "source": []
  },
  {
   "cell_type": "markdown",
   "metadata": {},
   "source": [
    "#### Building the first recommender based on the genres"
   ]
  },
  {
   "cell_type": "code",
   "execution_count": 48,
   "metadata": {
    "scrolled": true
   },
   "outputs": [
    {
     "data": {
      "text/plain": [
       "(21053, 11)"
      ]
     },
     "execution_count": 48,
     "metadata": {},
     "output_type": "execute_result"
    }
   ],
   "source": [
    "movie_data_years = movie_data[(movie_data['startYear'] >= 2010)]\n",
    "movie_data_years = movie_data_years.reset_index()\n",
    "movie_data_years.shape"
   ]
  },
  {
   "cell_type": "code",
   "execution_count": 49,
   "metadata": {},
   "outputs": [
    {
     "data": {
      "text/html": [
       "<div>\n",
       "<style scoped>\n",
       "    .dataframe tbody tr th:only-of-type {\n",
       "        vertical-align: middle;\n",
       "    }\n",
       "\n",
       "    .dataframe tbody tr th {\n",
       "        vertical-align: top;\n",
       "    }\n",
       "\n",
       "    .dataframe thead th {\n",
       "        text-align: right;\n",
       "    }\n",
       "</style>\n",
       "<table border=\"1\" class=\"dataframe\">\n",
       "  <thead>\n",
       "    <tr style=\"text-align: right;\">\n",
       "      <th></th>\n",
       "      <th>index</th>\n",
       "      <th>tconst</th>\n",
       "      <th>titleType</th>\n",
       "      <th>primaryTitle</th>\n",
       "      <th>startYear</th>\n",
       "      <th>genres</th>\n",
       "      <th>averageRating</th>\n",
       "      <th>numVotes</th>\n",
       "      <th>directors</th>\n",
       "      <th>writers</th>\n",
       "      <th>score</th>\n",
       "    </tr>\n",
       "  </thead>\n",
       "  <tbody>\n",
       "    <tr>\n",
       "      <th>6206</th>\n",
       "      <td>746619</td>\n",
       "      <td>tt1977755</td>\n",
       "      <td>movie</td>\n",
       "      <td>Final Recipe</td>\n",
       "      <td>2013</td>\n",
       "      <td>Drama</td>\n",
       "      <td>6.8</td>\n",
       "      <td>427</td>\n",
       "      <td>nm1346562</td>\n",
       "      <td>nm0398986,nm1346562</td>\n",
       "      <td>492.285563</td>\n",
       "    </tr>\n",
       "    <tr>\n",
       "      <th>11408</th>\n",
       "      <td>881089</td>\n",
       "      <td>tt3552960</td>\n",
       "      <td>movie</td>\n",
       "      <td>The Well</td>\n",
       "      <td>2015</td>\n",
       "      <td>Drama</td>\n",
       "      <td>7.8</td>\n",
       "      <td>428</td>\n",
       "      <td>nm1569290</td>\n",
       "      <td>nm6309606</td>\n",
       "      <td>492.218313</td>\n",
       "    </tr>\n",
       "    <tr>\n",
       "      <th>15568</th>\n",
       "      <td>1002867</td>\n",
       "      <td>tt5612426</td>\n",
       "      <td>movie</td>\n",
       "      <td>Centaur</td>\n",
       "      <td>2017</td>\n",
       "      <td>Drama</td>\n",
       "      <td>6.6</td>\n",
       "      <td>427</td>\n",
       "      <td>nm0008332</td>\n",
       "      <td>nm0008331,nm0008332</td>\n",
       "      <td>492.185540</td>\n",
       "    </tr>\n",
       "    <tr>\n",
       "      <th>1054</th>\n",
       "      <td>492217</td>\n",
       "      <td>tt10940978</td>\n",
       "      <td>movie</td>\n",
       "      <td>Sanjhbati</td>\n",
       "      <td>2019</td>\n",
       "      <td>Drama</td>\n",
       "      <td>7.7</td>\n",
       "      <td>429</td>\n",
       "      <td>nm10608963,nm6352729</td>\n",
       "      <td>nm6352729</td>\n",
       "      <td>491.602143</td>\n",
       "    </tr>\n",
       "    <tr>\n",
       "      <th>9350</th>\n",
       "      <td>829265</td>\n",
       "      <td>tt2751862</td>\n",
       "      <td>movie</td>\n",
       "      <td>Soguk</td>\n",
       "      <td>2013</td>\n",
       "      <td>Drama</td>\n",
       "      <td>5.8</td>\n",
       "      <td>428</td>\n",
       "      <td>nm0951309</td>\n",
       "      <td>nm0951309</td>\n",
       "      <td>491.216909</td>\n",
       "    </tr>\n",
       "    <tr>\n",
       "      <th>7790</th>\n",
       "      <td>790369</td>\n",
       "      <td>tt2298465</td>\n",
       "      <td>movie</td>\n",
       "      <td>Present Tense</td>\n",
       "      <td>2012</td>\n",
       "      <td>Drama</td>\n",
       "      <td>6.0</td>\n",
       "      <td>429</td>\n",
       "      <td>nm3537413</td>\n",
       "      <td>nm3537413,nm5246650</td>\n",
       "      <td>490.749958</td>\n",
       "    </tr>\n",
       "    <tr>\n",
       "      <th>20945</th>\n",
       "      <td>1192875</td>\n",
       "      <td>tt9773532</td>\n",
       "      <td>movie</td>\n",
       "      <td>Always Say Yes</td>\n",
       "      <td>2019</td>\n",
       "      <td>Drama</td>\n",
       "      <td>6.2</td>\n",
       "      <td>430</td>\n",
       "      <td>nm0297590</td>\n",
       "      <td>nm0297590</td>\n",
       "      <td>490.284564</td>\n",
       "    </tr>\n",
       "    <tr>\n",
       "      <th>702</th>\n",
       "      <td>469361</td>\n",
       "      <td>tt10488396</td>\n",
       "      <td>movie</td>\n",
       "      <td>Summer Detective</td>\n",
       "      <td>2019</td>\n",
       "      <td>Drama</td>\n",
       "      <td>6.8</td>\n",
       "      <td>431</td>\n",
       "      <td>nm10767454</td>\n",
       "      <td>nm10767454</td>\n",
       "      <td>490.021700</td>\n",
       "    </tr>\n",
       "    <tr>\n",
       "      <th>7118</th>\n",
       "      <td>773374</td>\n",
       "      <td>tt2170327</td>\n",
       "      <td>movie</td>\n",
       "      <td>Can</td>\n",
       "      <td>2012</td>\n",
       "      <td>Drama</td>\n",
       "      <td>6.7</td>\n",
       "      <td>431</td>\n",
       "      <td>nm1628235</td>\n",
       "      <td>nm4841006,nm1628235</td>\n",
       "      <td>489.971455</td>\n",
       "    </tr>\n",
       "    <tr>\n",
       "      <th>16790</th>\n",
       "      <td>1039898</td>\n",
       "      <td>tt6218440</td>\n",
       "      <td>movie</td>\n",
       "      <td>Maya Dardel</td>\n",
       "      <td>2017</td>\n",
       "      <td>Drama</td>\n",
       "      <td>5.1</td>\n",
       "      <td>430</td>\n",
       "      <td>nm6603334,nm2549947</td>\n",
       "      <td>nm6603334,nm2549947</td>\n",
       "      <td>489.732509</td>\n",
       "    </tr>\n",
       "  </tbody>\n",
       "</table>\n",
       "</div>"
      ],
      "text/plain": [
       "         index      tconst titleType      primaryTitle  startYear genres  \\\n",
       "6206    746619   tt1977755     movie      Final Recipe       2013  Drama   \n",
       "11408   881089   tt3552960     movie          The Well       2015  Drama   \n",
       "15568  1002867   tt5612426     movie           Centaur       2017  Drama   \n",
       "1054    492217  tt10940978     movie         Sanjhbati       2019  Drama   \n",
       "9350    829265   tt2751862     movie             Soguk       2013  Drama   \n",
       "7790    790369   tt2298465     movie     Present Tense       2012  Drama   \n",
       "20945  1192875   tt9773532     movie    Always Say Yes       2019  Drama   \n",
       "702     469361  tt10488396     movie  Summer Detective       2019  Drama   \n",
       "7118    773374   tt2170327     movie               Can       2012  Drama   \n",
       "16790  1039898   tt6218440     movie       Maya Dardel       2017  Drama   \n",
       "\n",
       "       averageRating  numVotes             directors              writers  \\\n",
       "6206             6.8       427             nm1346562  nm0398986,nm1346562   \n",
       "11408            7.8       428             nm1569290            nm6309606   \n",
       "15568            6.6       427             nm0008332  nm0008331,nm0008332   \n",
       "1054             7.7       429  nm10608963,nm6352729            nm6352729   \n",
       "9350             5.8       428             nm0951309            nm0951309   \n",
       "7790             6.0       429             nm3537413  nm3537413,nm5246650   \n",
       "20945            6.2       430             nm0297590            nm0297590   \n",
       "702              6.8       431            nm10767454           nm10767454   \n",
       "7118             6.7       431             nm1628235  nm4841006,nm1628235   \n",
       "16790            5.1       430   nm6603334,nm2549947  nm6603334,nm2549947   \n",
       "\n",
       "            score  \n",
       "6206   492.285563  \n",
       "11408  492.218313  \n",
       "15568  492.185540  \n",
       "1054   491.602143  \n",
       "9350   491.216909  \n",
       "7790   490.749958  \n",
       "20945  490.284564  \n",
       "702    490.021700  \n",
       "7118   489.971455  \n",
       "16790  489.732509  "
      ]
     },
     "execution_count": 49,
     "metadata": {},
     "output_type": "execute_result"
    }
   ],
   "source": [
    "movie_data_years_top = movie_data_years.sort_values('score', ascending=False)\n",
    "grouping = movie_data_years_top.groupby('genres')\n",
    "grouping_drama = pd.DataFrame(grouping.get_group('Drama'))\n",
    "grouping_drama = grouping_drama.sort_values('score', ascending = False)\n",
    "grouping_drama.head(10)"
   ]
  },
  {
   "cell_type": "code",
   "execution_count": 50,
   "metadata": {},
   "outputs": [
    {
     "data": {
      "text/html": [
       "<div>\n",
       "<style scoped>\n",
       "    .dataframe tbody tr th:only-of-type {\n",
       "        vertical-align: middle;\n",
       "    }\n",
       "\n",
       "    .dataframe tbody tr th {\n",
       "        vertical-align: top;\n",
       "    }\n",
       "\n",
       "    .dataframe thead th {\n",
       "        text-align: right;\n",
       "    }\n",
       "</style>\n",
       "<table border=\"1\" class=\"dataframe\">\n",
       "  <thead>\n",
       "    <tr style=\"text-align: right;\">\n",
       "      <th></th>\n",
       "      <th>index</th>\n",
       "      <th>tconst</th>\n",
       "      <th>titleType</th>\n",
       "      <th>primaryTitle</th>\n",
       "      <th>startYear</th>\n",
       "      <th>genres</th>\n",
       "      <th>averageRating</th>\n",
       "      <th>numVotes</th>\n",
       "      <th>directors</th>\n",
       "      <th>writers</th>\n",
       "      <th>score</th>\n",
       "    </tr>\n",
       "  </thead>\n",
       "  <tbody>\n",
       "    <tr>\n",
       "      <th>8845</th>\n",
       "      <td>815169</td>\n",
       "      <td>tt2538778</td>\n",
       "      <td>movie</td>\n",
       "      <td>Diamond Cartel</td>\n",
       "      <td>2015</td>\n",
       "      <td>Action,Adventure</td>\n",
       "      <td>3.1</td>\n",
       "      <td>537</td>\n",
       "      <td>nm5390562</td>\n",
       "      <td>nm4756889,nm5390562,nm5390260</td>\n",
       "      <td>434.814810</td>\n",
       "    </tr>\n",
       "    <tr>\n",
       "      <th>15456</th>\n",
       "      <td>999211</td>\n",
       "      <td>tt5555554</td>\n",
       "      <td>movie</td>\n",
       "      <td>Viking Legacy</td>\n",
       "      <td>2016</td>\n",
       "      <td>Action,Adventure</td>\n",
       "      <td>2.4</td>\n",
       "      <td>584</td>\n",
       "      <td>nm7066560,nm8001884</td>\n",
       "      <td>nm8001884</td>\n",
       "      <td>414.336579</td>\n",
       "    </tr>\n",
       "    <tr>\n",
       "      <th>1833</th>\n",
       "      <td>558525</td>\n",
       "      <td>tt1233259</td>\n",
       "      <td>movie</td>\n",
       "      <td>Captain Thunder</td>\n",
       "      <td>2011</td>\n",
       "      <td>Action,Adventure</td>\n",
       "      <td>3.0</td>\n",
       "      <td>589</td>\n",
       "      <td>nm0379872</td>\n",
       "      <td>nm0602358,nm1938616,nm0926075</td>\n",
       "      <td>412.656836</td>\n",
       "    </tr>\n",
       "    <tr>\n",
       "      <th>16298</th>\n",
       "      <td>1025593</td>\n",
       "      <td>tt5988966</td>\n",
       "      <td>movie</td>\n",
       "      <td>King Arthur: Excalibur Rising</td>\n",
       "      <td>2017</td>\n",
       "      <td>Action,Adventure</td>\n",
       "      <td>2.6</td>\n",
       "      <td>708</td>\n",
       "      <td>nm2396885</td>\n",
       "      <td>nm8001884,nm2396885</td>\n",
       "      <td>369.448902</td>\n",
       "    </tr>\n",
       "    <tr>\n",
       "      <th>8371</th>\n",
       "      <td>804148</td>\n",
       "      <td>tt2396200</td>\n",
       "      <td>movie</td>\n",
       "      <td>Richard The Lionheart</td>\n",
       "      <td>2013</td>\n",
       "      <td>Action,Adventure</td>\n",
       "      <td>2.4</td>\n",
       "      <td>733</td>\n",
       "      <td>nm3375413</td>\n",
       "      <td>nm2780927,nm3375413</td>\n",
       "      <td>361.414911</td>\n",
       "    </tr>\n",
       "    <tr>\n",
       "      <th>17562</th>\n",
       "      <td>1066689</td>\n",
       "      <td>tt6735754</td>\n",
       "      <td>movie</td>\n",
       "      <td>Vanamagan</td>\n",
       "      <td>2017</td>\n",
       "      <td>Action,Adventure</td>\n",
       "      <td>5.6</td>\n",
       "      <td>765</td>\n",
       "      <td>nm1777967</td>\n",
       "      <td>nm1777967</td>\n",
       "      <td>353.829346</td>\n",
       "    </tr>\n",
       "    <tr>\n",
       "      <th>14096</th>\n",
       "      <td>956792</td>\n",
       "      <td>tt4827878</td>\n",
       "      <td>movie</td>\n",
       "      <td>The Rendezvous</td>\n",
       "      <td>2016</td>\n",
       "      <td>Action,Adventure</td>\n",
       "      <td>5.1</td>\n",
       "      <td>813</td>\n",
       "      <td>nm1691239,nm1486975</td>\n",
       "      <td>nm7429707,nm0783559</td>\n",
       "      <td>340.019450</td>\n",
       "    </tr>\n",
       "    <tr>\n",
       "      <th>9652</th>\n",
       "      <td>838085</td>\n",
       "      <td>tt2905768</td>\n",
       "      <td>movie</td>\n",
       "      <td>Sahasam</td>\n",
       "      <td>2013</td>\n",
       "      <td>Action,Adventure</td>\n",
       "      <td>6.7</td>\n",
       "      <td>1060</td>\n",
       "      <td>nm1923369</td>\n",
       "      <td>nm2379696,nm1923369</td>\n",
       "      <td>285.520456</td>\n",
       "    </tr>\n",
       "    <tr>\n",
       "      <th>5147</th>\n",
       "      <td>718766</td>\n",
       "      <td>tt1784670</td>\n",
       "      <td>movie</td>\n",
       "      <td>The Malay Chronicles: Bloodlines</td>\n",
       "      <td>2011</td>\n",
       "      <td>Action,Adventure</td>\n",
       "      <td>3.7</td>\n",
       "      <td>1070</td>\n",
       "      <td>nm1126474</td>\n",
       "      <td>nm4198784,nm1126474</td>\n",
       "      <td>281.513104</td>\n",
       "    </tr>\n",
       "    <tr>\n",
       "      <th>8168</th>\n",
       "      <td>799742</td>\n",
       "      <td>tt2367996</td>\n",
       "      <td>movie</td>\n",
       "      <td>Mugamoodi</td>\n",
       "      <td>2012</td>\n",
       "      <td>Action,Adventure</td>\n",
       "      <td>5.0</td>\n",
       "      <td>1122</td>\n",
       "      <td>nm4199426</td>\n",
       "      <td>nm4199426</td>\n",
       "      <td>273.127463</td>\n",
       "    </tr>\n",
       "  </tbody>\n",
       "</table>\n",
       "</div>"
      ],
      "text/plain": [
       "         index     tconst titleType                      primaryTitle  \\\n",
       "8845    815169  tt2538778     movie                    Diamond Cartel   \n",
       "15456   999211  tt5555554     movie                     Viking Legacy   \n",
       "1833    558525  tt1233259     movie                   Captain Thunder   \n",
       "16298  1025593  tt5988966     movie     King Arthur: Excalibur Rising   \n",
       "8371    804148  tt2396200     movie             Richard The Lionheart   \n",
       "17562  1066689  tt6735754     movie                         Vanamagan   \n",
       "14096   956792  tt4827878     movie                    The Rendezvous   \n",
       "9652    838085  tt2905768     movie                           Sahasam   \n",
       "5147    718766  tt1784670     movie  The Malay Chronicles: Bloodlines   \n",
       "8168    799742  tt2367996     movie                         Mugamoodi   \n",
       "\n",
       "       startYear            genres  averageRating  numVotes  \\\n",
       "8845        2015  Action,Adventure            3.1       537   \n",
       "15456       2016  Action,Adventure            2.4       584   \n",
       "1833        2011  Action,Adventure            3.0       589   \n",
       "16298       2017  Action,Adventure            2.6       708   \n",
       "8371        2013  Action,Adventure            2.4       733   \n",
       "17562       2017  Action,Adventure            5.6       765   \n",
       "14096       2016  Action,Adventure            5.1       813   \n",
       "9652        2013  Action,Adventure            6.7      1060   \n",
       "5147        2011  Action,Adventure            3.7      1070   \n",
       "8168        2012  Action,Adventure            5.0      1122   \n",
       "\n",
       "                 directors                        writers       score  \n",
       "8845             nm5390562  nm4756889,nm5390562,nm5390260  434.814810  \n",
       "15456  nm7066560,nm8001884                      nm8001884  414.336579  \n",
       "1833             nm0379872  nm0602358,nm1938616,nm0926075  412.656836  \n",
       "16298            nm2396885            nm8001884,nm2396885  369.448902  \n",
       "8371             nm3375413            nm2780927,nm3375413  361.414911  \n",
       "17562            nm1777967                      nm1777967  353.829346  \n",
       "14096  nm1691239,nm1486975            nm7429707,nm0783559  340.019450  \n",
       "9652             nm1923369            nm2379696,nm1923369  285.520456  \n",
       "5147             nm1126474            nm4198784,nm1126474  281.513104  \n",
       "8168             nm4199426                      nm4199426  273.127463  "
      ]
     },
     "execution_count": 50,
     "metadata": {},
     "output_type": "execute_result"
    }
   ],
   "source": [
    "grouping_AA = pd.DataFrame(grouping.get_group('Action,Adventure'))\n",
    "grouping_AA = grouping_AA.sort_values('score', ascending = False)\n",
    "grouping_AA.head(10)"
   ]
  },
  {
   "cell_type": "code",
   "execution_count": 51,
   "metadata": {},
   "outputs": [
    {
     "data": {
      "image/png": "[encoded data removed]",
      "text/plain": [
       "<Figure size 1440x1440 with 1 Axes>"
      ]
     },
     "metadata": {
      "needs_background": "light"
     },
     "output_type": "display_data"
    }
   ],
   "source": [
    "plt.rcParams['figure.figsize'] = (20,20)\n",
    "movie_data_years['startYear'].value_counts().plot(kind='bar', color = ['blue', 'green', 'red', 'orange',\n",
    "                                                              'black', 'cyan', 'purple', 'yellow', 'brown', 'blue', 'green', 'red'])\n",
    "plt.title('Total Amount of Movies Released in a year 2010-2020', fontsize = 20)\n",
    "plt.xlabel('Year', fontsize = 15)\n",
    "plt.ylabel('Total', fontsize = 15)\n",
    "plt.show()"
   ]
  },
  {
   "cell_type": "code",
   "execution_count": 52,
   "metadata": {
    "scrolled": true
   },
   "outputs": [
    {
     "data": {
      "text/plain": [
       "Index(['index', 'tconst', 'titleType', 'primaryTitle', 'startYear', 'genres',\n",
       "       'averageRating', 'numVotes', 'directors', 'writers', 'score'],\n",
       "      dtype='object')"
      ]
     },
     "execution_count": 52,
     "metadata": {},
     "output_type": "execute_result"
    }
   ],
   "source": [
    "movie_data_years.columns"
   ]
  },
  {
   "cell_type": "code",
   "execution_count": 53,
   "metadata": {},
   "outputs": [],
   "source": [
    "movie_data_years = movie_data_years.drop(['tconst', 'titleType', 'numVotes'], axis=1)"
   ]
  },
  {
   "cell_type": "code",
   "execution_count": 54,
   "metadata": {},
   "outputs": [],
   "source": [
    "from sklearn.feature_extraction.text import TfidfVectorizer\n",
    "tf = TfidfVectorizer(analyzer='word',ngram_range=(1, 2),min_df=0, stop_words='english')\n",
    "tfidf_matrix = tf.fit_transform(movie_data_years['genres'])"
   ]
  },
  {
   "cell_type": "code",
   "execution_count": 55,
   "metadata": {},
   "outputs": [],
   "source": [
    "from sklearn.metrics.pairwise import linear_kernel\n",
    "cosine_sim = linear_kernel(tfidf_matrix, tfidf_matrix)"
   ]
  },
  {
   "cell_type": "code",
   "execution_count": 56,
   "metadata": {},
   "outputs": [],
   "source": [
    "titles = movie_data_years['primaryTitle']\n",
    "indices = pd.Series(movie_data_years.index, index=movie_data_years['primaryTitle'])\n",
    "\n",
    "def genre_recommendations(title):\n",
    "    try:\n",
    "        idx = indices[title]\n",
    "        sim_scores = list(enumerate(cosine_sim[idx]))\n",
    "        sim_scores = sorted(sim_scores, key=lambda x: x[1], reverse=True)\n",
    "        sim_scores = sim_scores[1:21]\n",
    "        movie_indices = [i[0] for i in sim_scores]\n",
    "        \n",
    "    except KeyError as err:\n",
    "        print('{0} not found'.format(title))\n",
    "    \n",
    "    return titles.iloc[movie_indices]"
   ]
  },
  {
   "cell_type": "code",
   "execution_count": 57,
   "metadata": {},
   "outputs": [
    {
     "data": {
      "text/plain": [
       "51                            Wonder Woman\n",
       "75     Prince of Persia: The Sands of Time\n",
       "82                     Season of the Witch\n",
       "137                    Clash of the Titans\n",
       "139                                   Thor\n",
       "141                               Warcraft\n",
       "157                    Conan the Barbarian\n",
       "163                                 Priest\n",
       "166                          Gallowwalkers\n",
       "237                Silent Hill: Revelation\n",
       "Name: primaryTitle, dtype: object"
      ]
     },
     "execution_count": 57,
     "metadata": {},
     "output_type": "execute_result"
    }
   ],
   "source": [
    "genre_recommendations('Suicide Squad').head(10)"
   ]
  },
  {
   "cell_type": "code",
   "execution_count": 58,
   "metadata": {},
   "outputs": [
    {
     "data": {
      "text/plain": [
       "23                             John Carter\n",
       "39                     Alita: Battle Angel\n",
       "58      Captain America: The First Avenger\n",
       "114                           Man of Steel\n",
       "168                               Godzilla\n",
       "182                           The Avengers\n",
       "471                         Monster Island\n",
       "518                               Krrish 3\n",
       "1121                          TRON: Legacy\n",
       "1313                         Green Lantern\n",
       "Name: primaryTitle, dtype: object"
      ]
     },
     "execution_count": 58,
     "metadata": {},
     "output_type": "execute_result"
    }
   ],
   "source": [
    "genre_recommendations('The Avengers').head(10)"
   ]
  },
  {
   "cell_type": "code",
   "execution_count": 59,
   "metadata": {},
   "outputs": [
    {
     "data": {
      "text/plain": [
       "22                           Tangled\n",
       "38                       Toy Story 3\n",
       "49                     Puss in Boots\n",
       "73                        The Smurfs\n",
       "86                        The Croods\n",
       "108         Escape from Planet Earth\n",
       "124                    The Boxtrolls\n",
       "173               Hotel Transylvania\n",
       "178    Hoodwinked Too! Hood vs. Evil\n",
       "186                        Sir Billi\n",
       "Name: primaryTitle, dtype: object"
      ]
     },
     "execution_count": 59,
     "metadata": {},
     "output_type": "execute_result"
    }
   ],
   "source": [
    "genre_recommendations('Coco').head(10)"
   ]
  },
  {
   "cell_type": "code",
   "execution_count": 60,
   "metadata": {},
   "outputs": [],
   "source": [
    "#movie_data2['startYear'] = movie_data2['startYear'].astype(int)\n",
    "#movie_data_years = movie_data2[(movie_data2['startYear'] >= 2010)]\n",
    "#movie_data_years = movie_data2_years.reset_index()\n",
    "#movie_data_years.shape"
   ]
  },
  {
   "cell_type": "markdown",
   "metadata": {},
   "source": [
    "#### Knn Recommender"
   ]
  },
  {
   "cell_type": "code",
   "execution_count": 61,
   "metadata": {},
   "outputs": [],
   "source": [
    "#making a pivot table\n",
    "movie_data_years = movie_data_years.drop_duplicates(subset='primaryTitle', keep='last')\n",
    "movie_years_pivot = movie_data_years.pivot(index='primaryTitle', columns='genres', values='averageRating').fillna(0)"
   ]
  },
  {
   "cell_type": "code",
   "execution_count": 62,
   "metadata": {},
   "outputs": [
    {
     "data": {
      "text/html": [
       "<div>\n",
       "<style scoped>\n",
       "    .dataframe tbody tr th:only-of-type {\n",
       "        vertical-align: middle;\n",
       "    }\n",
       "\n",
       "    .dataframe tbody tr th {\n",
       "        vertical-align: top;\n",
       "    }\n",
       "\n",
       "    .dataframe thead th {\n",
       "        text-align: right;\n",
       "    }\n",
       "</style>\n",
       "<table border=\"1\" class=\"dataframe\">\n",
       "  <thead>\n",
       "    <tr style=\"text-align: right;\">\n",
       "      <th>genres</th>\n",
       "      <th>Action</th>\n",
       "      <th>Action,Adventure</th>\n",
       "      <th>Action,Adventure,Animation</th>\n",
       "      <th>Action,Adventure,Biography</th>\n",
       "      <th>Action,Adventure,Comedy</th>\n",
       "      <th>Action,Adventure,Crime</th>\n",
       "      <th>Action,Adventure,Documentary</th>\n",
       "      <th>Action,Adventure,Drama</th>\n",
       "      <th>Action,Adventure,Family</th>\n",
       "      <th>Action,Adventure,Fantasy</th>\n",
       "      <th>...</th>\n",
       "      <th>Romance,Sport</th>\n",
       "      <th>Romance,Thriller</th>\n",
       "      <th>Romance,Western</th>\n",
       "      <th>Sci-Fi</th>\n",
       "      <th>Sci-Fi,Thriller</th>\n",
       "      <th>Sport</th>\n",
       "      <th>Thriller</th>\n",
       "      <th>Thriller,Western</th>\n",
       "      <th>War</th>\n",
       "      <th>Western</th>\n",
       "    </tr>\n",
       "    <tr>\n",
       "      <th>primaryTitle</th>\n",
       "      <th></th>\n",
       "      <th></th>\n",
       "      <th></th>\n",
       "      <th></th>\n",
       "      <th></th>\n",
       "      <th></th>\n",
       "      <th></th>\n",
       "      <th></th>\n",
       "      <th></th>\n",
       "      <th></th>\n",
       "      <th></th>\n",
       "      <th></th>\n",
       "      <th></th>\n",
       "      <th></th>\n",
       "      <th></th>\n",
       "      <th></th>\n",
       "      <th></th>\n",
       "      <th></th>\n",
       "      <th></th>\n",
       "      <th></th>\n",
       "      <th></th>\n",
       "    </tr>\n",
       "  </thead>\n",
       "  <tbody>\n",
       "    <tr>\n",
       "      <th>#Alive</th>\n",
       "      <td>0.0</td>\n",
       "      <td>0.0</td>\n",
       "      <td>0.0</td>\n",
       "      <td>0.0</td>\n",
       "      <td>0.0</td>\n",
       "      <td>0.0</td>\n",
       "      <td>0.0</td>\n",
       "      <td>0.0</td>\n",
       "      <td>0.0</td>\n",
       "      <td>0.0</td>\n",
       "      <td>...</td>\n",
       "      <td>0.0</td>\n",
       "      <td>0.0</td>\n",
       "      <td>0.0</td>\n",
       "      <td>0.0</td>\n",
       "      <td>0.0</td>\n",
       "      <td>0.0</td>\n",
       "      <td>0.0</td>\n",
       "      <td>0.0</td>\n",
       "      <td>0.0</td>\n",
       "      <td>0.0</td>\n",
       "    </tr>\n",
       "    <tr>\n",
       "      <th>#Captured</th>\n",
       "      <td>0.0</td>\n",
       "      <td>0.0</td>\n",
       "      <td>0.0</td>\n",
       "      <td>0.0</td>\n",
       "      <td>0.0</td>\n",
       "      <td>0.0</td>\n",
       "      <td>0.0</td>\n",
       "      <td>0.0</td>\n",
       "      <td>0.0</td>\n",
       "      <td>0.0</td>\n",
       "      <td>...</td>\n",
       "      <td>0.0</td>\n",
       "      <td>0.0</td>\n",
       "      <td>0.0</td>\n",
       "      <td>0.0</td>\n",
       "      <td>0.0</td>\n",
       "      <td>0.0</td>\n",
       "      <td>0.0</td>\n",
       "      <td>0.0</td>\n",
       "      <td>0.0</td>\n",
       "      <td>0.0</td>\n",
       "    </tr>\n",
       "    <tr>\n",
       "      <th>#Female Pleasure</th>\n",
       "      <td>0.0</td>\n",
       "      <td>0.0</td>\n",
       "      <td>0.0</td>\n",
       "      <td>0.0</td>\n",
       "      <td>0.0</td>\n",
       "      <td>0.0</td>\n",
       "      <td>0.0</td>\n",
       "      <td>0.0</td>\n",
       "      <td>0.0</td>\n",
       "      <td>0.0</td>\n",
       "      <td>...</td>\n",
       "      <td>0.0</td>\n",
       "      <td>0.0</td>\n",
       "      <td>0.0</td>\n",
       "      <td>0.0</td>\n",
       "      <td>0.0</td>\n",
       "      <td>0.0</td>\n",
       "      <td>0.0</td>\n",
       "      <td>0.0</td>\n",
       "      <td>0.0</td>\n",
       "      <td>0.0</td>\n",
       "    </tr>\n",
       "    <tr>\n",
       "      <th>#Followme</th>\n",
       "      <td>0.0</td>\n",
       "      <td>0.0</td>\n",
       "      <td>0.0</td>\n",
       "      <td>0.0</td>\n",
       "      <td>0.0</td>\n",
       "      <td>0.0</td>\n",
       "      <td>0.0</td>\n",
       "      <td>0.0</td>\n",
       "      <td>0.0</td>\n",
       "      <td>0.0</td>\n",
       "      <td>...</td>\n",
       "      <td>0.0</td>\n",
       "      <td>0.0</td>\n",
       "      <td>0.0</td>\n",
       "      <td>0.0</td>\n",
       "      <td>0.0</td>\n",
       "      <td>0.0</td>\n",
       "      <td>0.0</td>\n",
       "      <td>0.0</td>\n",
       "      <td>0.0</td>\n",
       "      <td>0.0</td>\n",
       "    </tr>\n",
       "    <tr>\n",
       "      <th>#FriendsButMarried</th>\n",
       "      <td>0.0</td>\n",
       "      <td>0.0</td>\n",
       "      <td>0.0</td>\n",
       "      <td>0.0</td>\n",
       "      <td>0.0</td>\n",
       "      <td>0.0</td>\n",
       "      <td>0.0</td>\n",
       "      <td>0.0</td>\n",
       "      <td>0.0</td>\n",
       "      <td>0.0</td>\n",
       "      <td>...</td>\n",
       "      <td>0.0</td>\n",
       "      <td>0.0</td>\n",
       "      <td>0.0</td>\n",
       "      <td>0.0</td>\n",
       "      <td>0.0</td>\n",
       "      <td>0.0</td>\n",
       "      <td>0.0</td>\n",
       "      <td>0.0</td>\n",
       "      <td>0.0</td>\n",
       "      <td>0.0</td>\n",
       "    </tr>\n",
       "  </tbody>\n",
       "</table>\n",
       "<p>5 rows × 623 columns</p>\n",
       "</div>"
      ],
      "text/plain": [
       "genres              Action  Action,Adventure  Action,Adventure,Animation  \\\n",
       "primaryTitle                                                               \n",
       "#Alive                 0.0               0.0                         0.0   \n",
       "#Captured              0.0               0.0                         0.0   \n",
       "#Female Pleasure       0.0               0.0                         0.0   \n",
       "#Followme              0.0               0.0                         0.0   \n",
       "#FriendsButMarried     0.0               0.0                         0.0   \n",
       "\n",
       "genres              Action,Adventure,Biography  Action,Adventure,Comedy  \\\n",
       "primaryTitle                                                              \n",
       "#Alive                                     0.0                      0.0   \n",
       "#Captured                                  0.0                      0.0   \n",
       "#Female Pleasure                           0.0                      0.0   \n",
       "#Followme                                  0.0                      0.0   \n",
       "#FriendsButMarried                         0.0                      0.0   \n",
       "\n",
       "genres              Action,Adventure,Crime  Action,Adventure,Documentary  \\\n",
       "primaryTitle                                                               \n",
       "#Alive                                 0.0                           0.0   \n",
       "#Captured                              0.0                           0.0   \n",
       "#Female Pleasure                       0.0                           0.0   \n",
       "#Followme                              0.0                           0.0   \n",
       "#FriendsButMarried                     0.0                           0.0   \n",
       "\n",
       "genres              Action,Adventure,Drama  Action,Adventure,Family  \\\n",
       "primaryTitle                                                          \n",
       "#Alive                                 0.0                      0.0   \n",
       "#Captured                              0.0                      0.0   \n",
       "#Female Pleasure                       0.0                      0.0   \n",
       "#Followme                              0.0                      0.0   \n",
       "#FriendsButMarried                     0.0                      0.0   \n",
       "\n",
       "genres              Action,Adventure,Fantasy  ...  Romance,Sport  \\\n",
       "primaryTitle                                  ...                  \n",
       "#Alive                                   0.0  ...            0.0   \n",
       "#Captured                                0.0  ...            0.0   \n",
       "#Female Pleasure                         0.0  ...            0.0   \n",
       "#Followme                                0.0  ...            0.0   \n",
       "#FriendsButMarried                       0.0  ...            0.0   \n",
       "\n",
       "genres              Romance,Thriller  Romance,Western  Sci-Fi  \\\n",
       "primaryTitle                                                    \n",
       "#Alive                           0.0              0.0     0.0   \n",
       "#Captured                        0.0              0.0     0.0   \n",
       "#Female Pleasure                 0.0              0.0     0.0   \n",
       "#Followme                        0.0              0.0     0.0   \n",
       "#FriendsButMarried               0.0              0.0     0.0   \n",
       "\n",
       "genres              Sci-Fi,Thriller  Sport  Thriller  Thriller,Western  War  \\\n",
       "primaryTitle                                                                  \n",
       "#Alive                          0.0    0.0       0.0               0.0  0.0   \n",
       "#Captured                       0.0    0.0       0.0               0.0  0.0   \n",
       "#Female Pleasure                0.0    0.0       0.0               0.0  0.0   \n",
       "#Followme                       0.0    0.0       0.0               0.0  0.0   \n",
       "#FriendsButMarried              0.0    0.0       0.0               0.0  0.0   \n",
       "\n",
       "genres              Western  \n",
       "primaryTitle                 \n",
       "#Alive                  0.0  \n",
       "#Captured               0.0  \n",
       "#Female Pleasure        0.0  \n",
       "#Followme               0.0  \n",
       "#FriendsButMarried      0.0  \n",
       "\n",
       "[5 rows x 623 columns]"
      ]
     },
     "execution_count": 62,
     "metadata": {},
     "output_type": "execute_result"
    }
   ],
   "source": [
    "movie_years_pivot.head()"
   ]
  },
  {
   "cell_type": "code",
   "execution_count": 63,
   "metadata": {},
   "outputs": [],
   "source": [
    "#Turning into a matrix for knn\n",
    "from scipy.sparse import csr_matrix\n",
    "movie_years_matrix = csr_matrix(movie_years_pivot.values)"
   ]
  },
  {
   "cell_type": "code",
   "execution_count": 64,
   "metadata": {},
   "outputs": [
    {
     "data": {
      "text/plain": [
       "NearestNeighbors(algorithm='brute', metric='cosine')"
      ]
     },
     "execution_count": 64,
     "metadata": {},
     "output_type": "execute_result"
    }
   ],
   "source": [
    "#setting knn model\n",
    "from sklearn.neighbors import NearestNeighbors\n",
    "\n",
    "movie_knn = NearestNeighbors(metric = 'cosine', algorithm='brute')\n",
    "movie_knn.fit(movie_years_matrix)"
   ]
  },
  {
   "cell_type": "code",
   "execution_count": 65,
   "metadata": {},
   "outputs": [
    {
     "name": "stdout",
     "output_type": "stream",
     "text": [
      "Recommendations for Ente Ummante Peru:\n",
      "\n",
      "1: Bad Family\n",
      "2: Tiger Eyes\n",
      "3: Parallel Mothers\n",
      "4: Tied\n",
      "5: The Dinner\n",
      "6: Harmonium\n",
      "7: Thérèse\n",
      "8: Thursday Till Sunday\n",
      "9: Hardkor Disko\n"
     ]
    }
   ],
   "source": [
    "query_index = np.random.choice(movie_years_pivot.shape[0])\n",
    "distances, indices = movie_knn.kneighbors(movie_years_pivot.values[query_index, :].reshape(1,-1), n_neighbors=10)\n",
    "\n",
    "for i in range(0, len(distances.flatten())):\n",
    "    if i == 0:\n",
    "        print('Recommendations for {0}:\\n'.format(movie_years_pivot.index[query_index]))\n",
    "    else:\n",
    "        print('{0}: {1}'.format(i, movie_years_pivot.index[indices.flatten()[i]]))"
   ]
  },
  {
   "cell_type": "code",
   "execution_count": 66,
   "metadata": {},
   "outputs": [],
   "source": [
    "def get_knn_rec (movie):\n",
    "    try: \n",
    "        query_index = movie_years_pivot.loc[movie]\n",
    "        distances, indices = movie_knn.kneighbors(query_index.values.reshape(1,-1), n_neighbors=10)\n",
    "\n",
    "        for i in range(0, len(distances.flatten())):\n",
    "            if i == 0:\n",
    "                print('Recommendations for {0}:\\n'.format(movie))\n",
    "            else:\n",
    "                print('{0}: {1}'.format(i, movie_years_pivot.index[indices.flatten()[i]]))\n",
    "    except KeyError as err:\n",
    "        print('{0} not found'.format(movie))\n",
    "        \n",
    "    return"
   ]
  },
  {
   "cell_type": "code",
   "execution_count": 67,
   "metadata": {},
   "outputs": [
    {
     "name": "stdout",
     "output_type": "stream",
     "text": [
      "Recommendations for Coco:\n",
      "\n",
      "1: Ice Age: Continental Drift\n",
      "2: Minuscule - Mandibles from Far Away\n",
      "3: Woody Woodpecker\n",
      "4: A Monster in Paris\n",
      "5: Speckles: The Tarbosaurus\n",
      "6: Angela's Christmas Wish\n",
      "7: Shaun the Sheep Movie\n",
      "8: The Wild Life\n",
      "9: Oggy and the Cockroaches: The Movie\n"
     ]
    }
   ],
   "source": [
    "get_knn_rec('Coco')"
   ]
  },
  {
   "cell_type": "code",
   "execution_count": 68,
   "metadata": {},
   "outputs": [
    {
     "name": "stdout",
     "output_type": "stream",
     "text": [
      "Recommendations for Suicide Squad:\n",
      "\n",
      "1: Fullmetal Alchemist\n",
      "2: Troy the Odyssey\n",
      "3: Doctor Strange\n",
      "4: The 25th Reich\n",
      "5: Survivor\n",
      "6: Hellboy\n",
      "7: Bleach\n",
      "8: The Mortal Instruments: City of Bones\n",
      "9: Gods of Egypt\n"
     ]
    }
   ],
   "source": [
    "get_knn_rec('Suicide Squad')"
   ]
  },
  {
   "cell_type": "code",
   "execution_count": 69,
   "metadata": {},
   "outputs": [
    {
     "name": "stdout",
     "output_type": "stream",
     "text": [
      "Recommendations for The Avengers:\n",
      "\n",
      "1: Revolt\n",
      "2: Rampage\n",
      "3: Moontrap: Target Earth\n",
      "4: Solis\n",
      "5: Cosmic Sin\n",
      "6: Assassin's Creed\n",
      "7: Power Rangers\n",
      "8: Transformers: Age of Extinction\n",
      "9: Oblivion\n"
     ]
    }
   ],
   "source": [
    "get_knn_rec('The Avengers')"
   ]
  },
  {
   "cell_type": "code",
   "execution_count": 70,
   "metadata": {},
   "outputs": [
    {
     "name": "stdout",
     "output_type": "stream",
     "text": [
      "Matrix not found\n"
     ]
    }
   ],
   "source": [
    "get_knn_rec('Matrix')"
   ]
  },
  {
   "cell_type": "markdown",
   "metadata": {},
   "source": [
    "#### Knn recommender with full movie dataframe"
   ]
  },
  {
   "cell_type": "code",
   "execution_count": 71,
   "metadata": {},
   "outputs": [],
   "source": [
    "full_df_movie2 = full_df_movie.reset_index()\n",
    "full_df_movie2 = full_df_movie2.drop_duplicates(subset='primaryTitle', keep='last')"
   ]
  },
  {
   "cell_type": "code",
   "execution_count": 72,
   "metadata": {},
   "outputs": [],
   "source": [
    "full_df_movie2_pivot = full_df_movie2.pivot(index='primaryTitle', columns='genres', values='averageRating').fillna(0)"
   ]
  },
  {
   "cell_type": "code",
   "execution_count": 73,
   "metadata": {},
   "outputs": [
    {
     "data": {
      "text/html": [
       "<div>\n",
       "<style scoped>\n",
       "    .dataframe tbody tr th:only-of-type {\n",
       "        vertical-align: middle;\n",
       "    }\n",
       "\n",
       "    .dataframe tbody tr th {\n",
       "        vertical-align: top;\n",
       "    }\n",
       "\n",
       "    .dataframe thead th {\n",
       "        text-align: right;\n",
       "    }\n",
       "</style>\n",
       "<table border=\"1\" class=\"dataframe\">\n",
       "  <thead>\n",
       "    <tr style=\"text-align: right;\">\n",
       "      <th></th>\n",
       "      <th>index</th>\n",
       "      <th>tconst</th>\n",
       "      <th>titleType</th>\n",
       "      <th>primaryTitle</th>\n",
       "      <th>originalTitle</th>\n",
       "      <th>isAdult</th>\n",
       "      <th>startYear</th>\n",
       "      <th>endYear</th>\n",
       "      <th>runtimeMinutes</th>\n",
       "      <th>genres</th>\n",
       "      <th>averageRating</th>\n",
       "      <th>numVotes</th>\n",
       "      <th>directors</th>\n",
       "      <th>writers</th>\n",
       "      <th>score</th>\n",
       "    </tr>\n",
       "  </thead>\n",
       "  <tbody>\n",
       "    <tr>\n",
       "      <th>2</th>\n",
       "      <td>1026</td>\n",
       "      <td>tt0002199</td>\n",
       "      <td>movie</td>\n",
       "      <td>From the Manger to the Cross; or, Jesus of Naz...</td>\n",
       "      <td>From the Manger to the Cross; or, Jesus of Naz...</td>\n",
       "      <td>0</td>\n",
       "      <td>1912</td>\n",
       "      <td>\\N</td>\n",
       "      <td>60</td>\n",
       "      <td>Biography,Drama</td>\n",
       "      <td>5.8</td>\n",
       "      <td>571</td>\n",
       "      <td>nm0646058</td>\n",
       "      <td>nm0310155</td>\n",
       "      <td>421.649242</td>\n",
       "    </tr>\n",
       "    <tr>\n",
       "      <th>4</th>\n",
       "      <td>1195</td>\n",
       "      <td>tt0002844</td>\n",
       "      <td>movie</td>\n",
       "      <td>Fantômas: In the Shadow of the Guillotine</td>\n",
       "      <td>Fantômas - À l'ombre de la guillotine</td>\n",
       "      <td>0</td>\n",
       "      <td>1913</td>\n",
       "      <td>\\N</td>\n",
       "      <td>54</td>\n",
       "      <td>Crime,Drama</td>\n",
       "      <td>7.0</td>\n",
       "      <td>2177</td>\n",
       "      <td>nm0275421</td>\n",
       "      <td>nm0019855,nm0275421,nm0816232</td>\n",
       "      <td>166.160540</td>\n",
       "    </tr>\n",
       "    <tr>\n",
       "      <th>5</th>\n",
       "      <td>1225</td>\n",
       "      <td>tt0003014</td>\n",
       "      <td>movie</td>\n",
       "      <td>Ingeborg Holm</td>\n",
       "      <td>Ingeborg Holm</td>\n",
       "      <td>0</td>\n",
       "      <td>1913</td>\n",
       "      <td>\\N</td>\n",
       "      <td>96</td>\n",
       "      <td>Drama</td>\n",
       "      <td>7.0</td>\n",
       "      <td>1156</td>\n",
       "      <td>nm0803705</td>\n",
       "      <td>nm0472236,nm0803705</td>\n",
       "      <td>268.828541</td>\n",
       "    </tr>\n",
       "    <tr>\n",
       "      <th>6</th>\n",
       "      <td>1230</td>\n",
       "      <td>tt0003037</td>\n",
       "      <td>movie</td>\n",
       "      <td>Fantomas: The Man in Black</td>\n",
       "      <td>Juve contre Fantômas</td>\n",
       "      <td>0</td>\n",
       "      <td>1913</td>\n",
       "      <td>\\N</td>\n",
       "      <td>61</td>\n",
       "      <td>Crime,Drama</td>\n",
       "      <td>7.0</td>\n",
       "      <td>1504</td>\n",
       "      <td>nm0275421</td>\n",
       "      <td>nm0019855,nm0275421,nm0816232</td>\n",
       "      <td>221.637567</td>\n",
       "    </tr>\n",
       "    <tr>\n",
       "      <th>7</th>\n",
       "      <td>1251</td>\n",
       "      <td>tt0003165</td>\n",
       "      <td>movie</td>\n",
       "      <td>Fantômas: The Dead Man Who Killed</td>\n",
       "      <td>Le mort qui tue</td>\n",
       "      <td>0</td>\n",
       "      <td>1913</td>\n",
       "      <td>\\N</td>\n",
       "      <td>90</td>\n",
       "      <td>Crime,Drama,Mystery</td>\n",
       "      <td>7.0</td>\n",
       "      <td>1176</td>\n",
       "      <td>nm0275421</td>\n",
       "      <td>nm0019855,nm0275421,nm0816232</td>\n",
       "      <td>265.561401</td>\n",
       "    </tr>\n",
       "  </tbody>\n",
       "</table>\n",
       "</div>"
      ],
      "text/plain": [
       "   index     tconst titleType  \\\n",
       "2   1026  tt0002199     movie   \n",
       "4   1195  tt0002844     movie   \n",
       "5   1225  tt0003014     movie   \n",
       "6   1230  tt0003037     movie   \n",
       "7   1251  tt0003165     movie   \n",
       "\n",
       "                                        primaryTitle  \\\n",
       "2  From the Manger to the Cross; or, Jesus of Naz...   \n",
       "4          Fantômas: In the Shadow of the Guillotine   \n",
       "5                                      Ingeborg Holm   \n",
       "6                         Fantomas: The Man in Black   \n",
       "7                  Fantômas: The Dead Man Who Killed   \n",
       "\n",
       "                                       originalTitle isAdult startYear  \\\n",
       "2  From the Manger to the Cross; or, Jesus of Naz...       0      1912   \n",
       "4              Fantômas - À l'ombre de la guillotine       0      1913   \n",
       "5                                      Ingeborg Holm       0      1913   \n",
       "6                               Juve contre Fantômas       0      1913   \n",
       "7                                    Le mort qui tue       0      1913   \n",
       "\n",
       "  endYear runtimeMinutes               genres  averageRating  numVotes  \\\n",
       "2      \\N             60      Biography,Drama            5.8       571   \n",
       "4      \\N             54          Crime,Drama            7.0      2177   \n",
       "5      \\N             96                Drama            7.0      1156   \n",
       "6      \\N             61          Crime,Drama            7.0      1504   \n",
       "7      \\N             90  Crime,Drama,Mystery            7.0      1176   \n",
       "\n",
       "   directors                        writers       score  \n",
       "2  nm0646058                      nm0310155  421.649242  \n",
       "4  nm0275421  nm0019855,nm0275421,nm0816232  166.160540  \n",
       "5  nm0803705            nm0472236,nm0803705  268.828541  \n",
       "6  nm0275421  nm0019855,nm0275421,nm0816232  221.637567  \n",
       "7  nm0275421  nm0019855,nm0275421,nm0816232  265.561401  "
      ]
     },
     "execution_count": 73,
     "metadata": {},
     "output_type": "execute_result"
    }
   ],
   "source": [
    "full_df_movie2.head()"
   ]
  },
  {
   "cell_type": "code",
   "execution_count": 74,
   "metadata": {},
   "outputs": [],
   "source": [
    "full_df_movie_matrix = csr_matrix(full_df_movie2_pivot.values)"
   ]
  },
  {
   "cell_type": "code",
   "execution_count": 75,
   "metadata": {},
   "outputs": [
    {
     "data": {
      "text/plain": [
       "NearestNeighbors(algorithm='brute', metric='cosine')"
      ]
     },
     "execution_count": 75,
     "metadata": {},
     "output_type": "execute_result"
    }
   ],
   "source": [
    "full_df_knn = NearestNeighbors(metric = 'cosine', algorithm='brute')\n",
    "full_df_knn.fit(full_df_movie_matrix)"
   ]
  },
  {
   "cell_type": "code",
   "execution_count": 76,
   "metadata": {},
   "outputs": [],
   "source": [
    "def get_knn_rec2 (movie):\n",
    "    try: \n",
    "        query_index = full_df_movie2_pivot.loc[movie]\n",
    "        distances, indices = full_df_knn.kneighbors(query_index.values.reshape(1,-1), n_neighbors=10)\n",
    "\n",
    "        for i in range(0, len(distances.flatten())):\n",
    "            if i == 0:\n",
    "                print('Recommendations for {0}:\\n'.format(movie))\n",
    "            else:\n",
    "                print('{0}: {1}'.format(i, full_df_movie2_pivot.index[indices.flatten()[i]]))\n",
    "    except KeyError as err:\n",
    "        print('{0} not found'.format(movie))\n",
    "        \n",
    "    return"
   ]
  },
  {
   "cell_type": "code",
   "execution_count": 77,
   "metadata": {},
   "outputs": [
    {
     "name": "stdout",
     "output_type": "stream",
     "text": [
      "Recommendations for Coco:\n",
      "\n",
      "1: The Lion Guard: Return of the Roar\n",
      "2: Woody Woodpecker\n",
      "3: The Littl' Bits\n",
      "4: HarmonQuest\n",
      "5: The Twisted Tales of Felix the Cat\n",
      "6: Mune: Guardian of the Moon\n",
      "7: Muppet Babies\n",
      "8: Marsupilami\n",
      "9: Spirit Untamed\n"
     ]
    }
   ],
   "source": [
    "get_knn_rec2('Coco')"
   ]
  },
  {
   "cell_type": "code",
   "execution_count": 78,
   "metadata": {},
   "outputs": [
    {
     "name": "stdout",
     "output_type": "stream",
     "text": [
      "Recommendations for The Matrix:\n",
      "\n",
      "1: Rz-9\n",
      "2: Programmed to Kill\n",
      "3: Prototype\n",
      "4: Murdercycle\n",
      "5: Campus Code\n",
      "6: The Princess Blade\n",
      "7: The Wolverine\n",
      "8: Hulk\n",
      "9: World Gone Wild\n"
     ]
    }
   ],
   "source": [
    "get_knn_rec2('The Matrix')"
   ]
  },
  {
   "cell_type": "code",
   "execution_count": 79,
   "metadata": {},
   "outputs": [
    {
     "name": "stdout",
     "output_type": "stream",
     "text": [
      "Recommendations for The Sound of Music:\n",
      "\n",
      "1: Right on Track\n",
      "2: Finding Neverland\n",
      "3: Beautiful\n",
      "4: A Street Cat Named Bob\n",
      "5: The von Trapp Family: A Life of Music\n",
      "6: A Man Called Peter\n",
      "7: Thérèse: The Story of Saint Thérèse of Lisieux\n",
      "8: Oshin\n",
      "9: Empire of Silver\n"
     ]
    }
   ],
   "source": [
    "get_knn_rec2('The Sound of Music')"
   ]
  },
  {
   "cell_type": "code",
   "execution_count": null,
   "metadata": {},
   "outputs": [],
   "source": []
  }
 ],
 "metadata": {
  "kernelspec": {
   "display_name": "Python 3",
   "language": "python",
   "name": "python3"
  },
  "language_info": {
   "codemirror_mode": {
    "name": "ipython",
    "version": 3
   },
   "file_extension": ".py",
   "mimetype": "text/x-python",
   "name": "python",
   "nbconvert_exporter": "python",
   "pygments_lexer": "ipython3",
   "version": "3.8.5"
  }
 },
 "nbformat": 4,
 "nbformat_minor": 4
}
